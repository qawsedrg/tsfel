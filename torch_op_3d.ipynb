{
 "cells": [
  {
   "cell_type": "code",
   "execution_count": 1,
   "metadata": {},
   "outputs": [],
   "source": [
    "import torch\n",
    "import torch.nn as nn\n",
    "import torch.nn.functional as F\n",
    "\n",
    "import tsfel.feature_extraction as tsf\n",
    "\n",
    "import numpy as np\n",
    "\n",
    "import torchaudio"
   ]
  },
  {
   "cell_type": "code",
   "execution_count": 2,
   "metadata": {},
   "outputs": [],
   "source": [
    "X = np.random.randn(100, 26, 200)\n",
    "Y = torch.Tensor(X)"
   ]
  },
  {
   "cell_type": "code",
   "execution_count": 11,
   "metadata": {},
   "outputs": [
    {
     "name": "stdout",
     "output_type": "stream",
     "text": [
      "tensor([ 0.,  1.,  2.,  3.,  4.,  5.,  6.,  7.,  8.,  9., 10., 11., 12., 13.,\n",
      "        14., 15., 16., 17., 18., 19., 20., 21., 22., 23., 24., 25.]) [ 0.  1.  2.  3.  4.  5.  6.  7.  8.  9. 10. 11. 12. 13. 14. 15. 16. 17.\n",
      " 18. 19. 20. 21. 22. 23. 24. 25.]\n"
     ]
    }
   ],
   "source": [
    "def compute_time(signal, fs, dim):\n",
    "    return torch.arange(0, signal.shape[dim]) / fs\n",
    "print(compute_time(Y, 1, dim=1), tsf.compute_time(X[0,:,0], 1))"
   ]
  },
  {
   "cell_type": "code",
   "execution_count": 21,
   "metadata": {},
   "outputs": [
    {
     "name": "stdout",
     "output_type": "stream",
     "text": [
      "tensor(13.5332) 13.53324715943185\n"
     ]
    }
   ],
   "source": [
    "def calc_centroid(signal, fs, dim):\n",
    "    time = compute_time(signal, fs, dim)\n",
    "    energy = signal ** 2\n",
    "    shape = [None] * len(signal.shape)\n",
    "    shape[dim] = slice(None, None, None)\n",
    "    t_energy = torch.sum(torch.multiply(time[shape], energy), dim)\n",
    "    energy_sum = torch.sum(energy, dim)\n",
    "    centroid = t_energy / energy_sum\n",
    "    return centroid\n",
    "print(calc_centroid(Y, 1, dim=1)[0,0], tsf.calc_centroid(X[0,:,0], 1))"
   ]
  },
  {
   "cell_type": "code",
   "execution_count": 34,
   "metadata": {},
   "outputs": [
    {
     "name": "stdout",
     "output_type": "stream",
     "text": [
      "tensor(7) 8\n"
     ]
    }
   ],
   "source": [
    "def negative_turning(signal, dim):\n",
    "    diff_sig = torch.diff(signal, dim=dim)\n",
    "    shape1 = [slice(None, None, None)] * len(signal.shape)\n",
    "    shape1[dim] = slice(None, -1, None)\n",
    "    shape2 = [slice(None, None, None)] * len(signal.shape)\n",
    "    shape2[dim] = slice(1, None, None)\n",
    "    diff_sig_sign = torch.sign(diff_sig)\n",
    "    sign_diff = diff_sig_sign[shape1] * diff_sig_sign[shape2]\n",
    "    return torch.sum((sign_diff<0) & (diff_sig_sign[shape1]>0), dim=dim)\n",
    "\n",
    "print(negative_turning(Y, dim=1)[0,0], tsf.negative_turning(X[0,:,0]))"
   ]
  },
  {
   "cell_type": "code",
   "execution_count": 35,
   "metadata": {},
   "outputs": [
    {
     "name": "stdout",
     "output_type": "stream",
     "text": [
      "tensor(8) 7\n"
     ]
    }
   ],
   "source": [
    "def positive_turning(signal, dim):\n",
    "    diff_sig = torch.diff(signal, dim=dim)\n",
    "    shape1 = [slice(None, None, None)] * len(signal.shape)\n",
    "    shape1[dim] = slice(None, -1, None)\n",
    "    shape2 = [slice(None, None, None)] * len(signal.shape)\n",
    "    shape2[dim] = slice(1, None, None)\n",
    "    diff_sig_sign = torch.sign(diff_sig)\n",
    "    sign_diff = diff_sig_sign[shape1] * diff_sig_sign[shape2]\n",
    "    return torch.sum((sign_diff<0) & (diff_sig_sign[shape1]<0), dim=dim)\n",
    "\n",
    "print(positive_turning(Y, dim=1)[0,0], tsf.positive_turning(X[0,:,0]))"
   ]
  },
  {
   "cell_type": "code",
   "execution_count": 38,
   "metadata": {},
   "outputs": [
    {
     "name": "stdout",
     "output_type": "stream",
     "text": [
      "tensor(1.0180) 1.0180389070820206\n"
     ]
    }
   ],
   "source": [
    "def mean_abs_diff(signal, dim):\n",
    "    return torch.mean(torch.abs(torch.diff(signal, dim=dim)), dim=dim)\n",
    "\n",
    "print(mean_abs_diff(Y, dim=1)[0,0], tsf.mean_abs_diff(X[0,:,0]))"
   ]
  },
  {
   "cell_type": "code",
   "execution_count": 40,
   "metadata": {},
   "outputs": [
    {
     "name": "stdout",
     "output_type": "stream",
     "text": [
      "tensor(0.0241) 0.024078354745554448\n"
     ]
    }
   ],
   "source": [
    "def mean_diff(signal, dim):\n",
    "    return torch.mean(torch.diff(signal, dim=dim), dim=dim)\n",
    "print(mean_diff(Y, dim=1)[0,0], tsf.mean_diff(X[0,:,0]))"
   ]
  },
  {
   "cell_type": "code",
   "execution_count": 42,
   "metadata": {},
   "outputs": [
    {
     "name": "stdout",
     "output_type": "stream",
     "text": [
      "tensor(0.9164) 0.9164040850137399\n"
     ]
    }
   ],
   "source": [
    "def median_abs_diff(signal, dim):\n",
    "    return torch.median(torch.abs(torch.diff(signal, dim=dim)), dim=dim)[0]\n",
    "print(median_abs_diff(Y, dim=1)[0,0], tsf.median_abs_diff(X[0,:,0]))"
   ]
  },
  {
   "cell_type": "code",
   "execution_count": 43,
   "metadata": {},
   "outputs": [
    {
     "name": "stdout",
     "output_type": "stream",
     "text": [
      "tensor(-0.1051) -0.1050789752705468\n"
     ]
    }
   ],
   "source": [
    "def median_diff(signal, dim):\n",
    "    return torch.median(torch.diff(signal, dim=dim), dim=dim)[0]\n",
    "print(median_diff(Y, dim=1)[0,0], tsf.median_diff(X[0,:,0]))"
   ]
  },
  {
   "cell_type": "code",
   "execution_count": 47,
   "metadata": {},
   "outputs": [
    {
     "name": "stdout",
     "output_type": "stream",
     "text": [
      "tensor(36.6801) 36.6801232043038\n"
     ]
    }
   ],
   "source": [
    "def distance(signal, dim):\n",
    "    diff_sig = torch.diff(signal, dim=dim)\n",
    "    return torch.sum(torch.sqrt(1 + diff_sig**2), dim)\n",
    "print(distance(Y, dim=1)[0,0], tsf.distance(X[0,:,0]))"
   ]
  },
  {
   "cell_type": "code",
   "execution_count": 49,
   "metadata": {},
   "outputs": [
    {
     "name": "stdout",
     "output_type": "stream",
     "text": [
      "tensor(25.4510) 25.450972677050515\n"
     ]
    }
   ],
   "source": [
    "def sum_abs_diff(signal, dim):\n",
    "    return torch.sum(torch.abs(torch.diff(signal, dim=dim)), dim=dim)\n",
    "print(sum_abs_diff(Y, dim=1)[0,0], tsf.sum_abs_diff(X[0,:,0]))"
   ]
  },
  {
   "cell_type": "code",
   "execution_count": 51,
   "metadata": {},
   "outputs": [
    {
     "name": "stdout",
     "output_type": "stream",
     "text": [
      "tensor(14) 14\n"
     ]
    }
   ],
   "source": [
    "def zero_cross(signal, dim):\n",
    "    return torch.sum(torch.diff(torch.sign(signal), dim=dim).bool(), dim=dim)\n",
    "print(zero_cross(Y, dim=1)[0,0], tsf.zero_cross(X[0,:,0]))"
   ]
  },
  {
   "cell_type": "code",
   "execution_count": 55,
   "metadata": {},
   "outputs": [
    {
     "name": "stdout",
     "output_type": "stream",
     "text": [
      "tensor(12.5816) 12.58162228287284\n"
     ]
    }
   ],
   "source": [
    "def auc(signal, fs, dim):\n",
    "    t = compute_time(signal, fs, dim)\n",
    "    shape = [None] * len(signal.shape)\n",
    "    shape[dim] = slice(None, None, None)\n",
    "    shape1 = [slice(None, None, None)] * len(signal.shape)\n",
    "    shape1[dim] = slice(None, -1, None)\n",
    "    shape2 = [slice(None, None, None)] * len(signal.shape)\n",
    "    shape2[dim] = slice(1, None, None)\n",
    "    return torch.sum(0.5 * torch.diff(t)[shape] * torch.abs(signal[shape1] + signal[shape2]), dim=dim)\n",
    "print(auc(Y, 1, dim=1)[0,0], tsf.auc(X[0,:,0], 1))"
   ]
  },
  {
   "cell_type": "code",
   "execution_count": 57,
   "metadata": {},
   "outputs": [
    {
     "name": "stdout",
     "output_type": "stream",
     "text": [
      "tensor(18.3739) 18.37385219909701\n"
     ]
    }
   ],
   "source": [
    "def abs_energy(signal, dim):\n",
    "    return torch.sum(torch.abs(signal) ** 2, dim=dim)\n",
    "print(abs_energy(Y, dim=1)[0,0], tsf.abs_energy(X[0,:,0]))"
   ]
  },
  {
   "cell_type": "code",
   "execution_count": 59,
   "metadata": {},
   "outputs": [
    {
     "name": "stdout",
     "output_type": "stream",
     "text": [
      "tensor(0.7350) 0.7349540879638803\n"
     ]
    }
   ],
   "source": [
    "def average_power(signal, fs, dim):\n",
    "    time = compute_time(signal, fs, dim)\n",
    "    return torch.sum(signal ** 2, dim=dim) / (time[-1] - time[0])\n",
    "print(average_power(Y, 1, dim=1)[0,0], tsf.average_power(X[0,:,0], 1))"
   ]
  },
  {
   "cell_type": "code",
   "execution_count": 86,
   "metadata": {},
   "outputs": [
    {
     "name": "stdout",
     "output_type": "stream",
     "text": [
      "tensor(0.9429) 1.0\n"
     ]
    },
    {
     "name": "stderr",
     "output_type": "stream",
     "text": [
      "/tmp/ipykernel_8324/3421186131.py:37: DeprecationWarning: __array_wrap__ must accept context and return_scalar arguments (positionally) in the future. (Deprecated NumPy 2.0)\n",
      "  elif torch.sum(p * np.log2(p)) / np.log2(len(signal)) == 0:\n",
      "/tmp/ipykernel_8324/3421186131.py:40: DeprecationWarning: __array_wrap__ must accept context and return_scalar arguments (positionally) in the future. (Deprecated NumPy 2.0)\n",
      "  return -torch.sum(p * np.log2(p)) / np.log2(len(signal))\n"
     ]
    },
    {
     "data": {
      "text/plain": [
       "np.False_"
      ]
     },
     "execution_count": 86,
     "metadata": {},
     "output_type": "execute_result"
    }
   ],
   "source": [
    "# cross entropy\n",
    "def create_xx(features):\n",
    "    if max(features) < 0:\n",
    "        max_f = -torch.max(features,dim=0)[0]\n",
    "        min_f = torch.min(features,dim=0)[0]\n",
    "    else:\n",
    "        min_f = torch.min(features,dim=0)[0]\n",
    "        max_f = torch.max(features,dim=0)[0]\n",
    "    if torch.min(features,dim=0)[0] == torch.max(features,dim=0)[0]:\n",
    "        xx = torch.linspace(min_f, min_f + 10, len(features))\n",
    "    else:\n",
    "        xx = torch.linspace(min_f, max_f, len(features))\n",
    "    return xx\n",
    "\n",
    "def gaussian(features):\n",
    "    xx = create_xx(features)\n",
    "    std_value = torch.std(features)\n",
    "    mean_value = torch.mean(features)\n",
    "    if std_value == 0:\n",
    "        return 0.0\n",
    "    pdf_gauss = torch.distributions.normal.Normal(mean_value, std_value).log_prob(xx).exp()\n",
    "    return pdf_gauss / torch.sum(pdf_gauss)\n",
    "\n",
    "def entropy(signal, prob=\"gauss\"):\n",
    "    if prob == \"standard\":\n",
    "        value, counts = torch.unique(signal, return_counts=True)\n",
    "        p = counts / counts.sum()\n",
    "    elif prob == \"gauss\":\n",
    "        p = gaussian(signal)\n",
    "    if torch.sum(p) == 0:\n",
    "        return 0.0\n",
    "    # Handling zero probability values\n",
    "    p = p[torch.where(p != 0)]\n",
    "    # If probability all in one value, there is no entropy\n",
    "    if np.log2(len(signal)) == 1:\n",
    "        return 0.0\n",
    "    elif torch.sum(p * np.log2(p)) / np.log2(len(signal)) == 0:\n",
    "        return 0.0\n",
    "    else:\n",
    "        return -torch.sum(p * np.log2(p)) / np.log2(len(signal))\n",
    "print(entropy(Y), tsf.entropy(X))\n",
    "np.isclose(entropy(Y), tsf.entropy(X)).all()"
   ]
  },
  {
   "cell_type": "code",
   "execution_count": 51,
   "metadata": {},
   "outputs": [
    {
     "name": "stdout",
     "output_type": "stream",
     "text": [
      "-0.25253606 -0.25253615296528875\n"
     ]
    },
    {
     "data": {
      "text/plain": [
       "np.True_"
      ]
     },
     "execution_count": 51,
     "metadata": {},
     "output_type": "execute_result"
    }
   ],
   "source": [
    "# histogram along a dim ???\n",
    "def hist_mode(signal, nbins=10):\n",
    "    hist_values, bin_edges = torch.histogram(signal, bins=nbins)\n",
    "    max_bin_idx = torch.argmax(hist_values)\n",
    "    mode_value = (bin_edges[max_bin_idx] + bin_edges[max_bin_idx + 1]) / 2.0\n",
    "    return mode_value\n",
    "print(hist_mode(Y, dim=1)[0,0], tsf.hist_mode(X[0,:,0]))"
   ]
  },
  {
   "cell_type": "code",
   "execution_count": 63,
   "metadata": {},
   "outputs": [
    {
     "name": "stdout",
     "output_type": "stream",
     "text": [
      "tensor(1.1355) 1.1355037340897236\n"
     ]
    }
   ],
   "source": [
    "def interq_range(signal, dim):\n",
    "    return torch.quantile(signal, .75, dim=dim) - torch.quantile(signal, .25, dim=dim)\n",
    "print(interq_range(Y, dim=1)[0,0], tsf.interq_range(X[0,:,0]))"
   ]
  },
  {
   "cell_type": "code",
   "execution_count": 64,
   "metadata": {},
   "outputs": [
    {
     "name": "stdout",
     "output_type": "stream",
     "text": [
      "tensor(3.2980) 3.2980223870880443\n"
     ]
    }
   ],
   "source": [
    "def pk_pk_distance(signal, dim):\n",
    "    return torch.abs(torch.max(signal, dim=dim)[0] - torch.min(signal, dim=dim)[0])\n",
    "print(pk_pk_distance(Y, dim=1)[0,0], tsf.pk_pk_distance(X[0,:,0]))"
   ]
  },
  {
   "cell_type": "code",
   "execution_count": 68,
   "metadata": {},
   "outputs": [],
   "source": [
    "def calc_ecdf(signal, dim):\n",
    "    return torch.sort(signal, dim=dim)[0], torch.arange(1, signal.shape[dim] + 1) / signal.shape[dim]"
   ]
  },
  {
   "cell_type": "code",
   "execution_count": 83,
   "metadata": {},
   "outputs": [
    {
     "name": "stdout",
     "output_type": "stream",
     "text": [
      "tensor(0.7358) 0.7357521728830281\n"
     ]
    }
   ],
   "source": [
    "def ecdf_percentile(signal, dim, percentile):\n",
    "    x, y = calc_ecdf(signal, dim)\n",
    "    shape = [None] * len(signal.shape)\n",
    "    shape[dim] = slice(None, None, None)\n",
    "    mask = y <= percentile\n",
    "    mask = mask[shape]\n",
    "    mask = mask.expand(signal.shape)\n",
    "    return torch.amax(torch.masked.as_masked_tensor(x, mask), dim=dim)\n",
    "print(ecdf_percentile(Y, dim=1, percentile=0.75).get_data()[0,0], tsf.ecdf_percentile(X[0,:,0], percentile=0.75))"
   ]
  },
  {
   "cell_type": "code",
   "execution_count": 84,
   "metadata": {},
   "outputs": [
    {
     "name": "stdout",
     "output_type": "stream",
     "text": [
      "tensor(0.3939) 0.3938736973107223\n"
     ]
    }
   ],
   "source": [
    "def ecdf_slope(signal, dim, p_init=0.5, p_end=0.75):\n",
    "    x_init = ecdf_percentile(signal, dim = dim, percentile=p_init).get_data()\n",
    "    x_end = ecdf_percentile(signal, dim = dim, percentile=p_end).get_data()\n",
    "    return (p_end - p_init) / (x_end - x_init)\n",
    "print(ecdf_slope(Y, dim=1)[0,0], tsf.ecdf_slope(X[0,:,0]))"
   ]
  },
  {
   "cell_type": "code",
   "execution_count": 85,
   "metadata": {},
   "outputs": [],
   "source": [
    "def calc_fft(signal, fs, dim):\n",
    "    fmag = torch.abs(torch.fft.rfft(signal, dim=dim))\n",
    "    f = torch.fft.rfftfreq(signal.shape[dim], d=1 / fs)\n",
    "    return f, fmag"
   ]
  },
  {
   "cell_type": "code",
   "execution_count": null,
   "metadata": {},
   "outputs": [],
   "source": [
    "# nor related to signal itself?\n",
    "def spectral_distance(signal, fs, dim):\n",
    "    f, fmag = calc_fft(signal, fs)\n",
    "    cum_fmag = torch.cumsum(fmag, dim=dim)\n",
    "    # Computing the linear regression\n",
    "    points_y = torch.linspace(0, cum_fmag[-1], len(cum_fmag))\n",
    "    return torch.sum(points_y - cum_fmag)\n",
    "print(spectral_distance(Y, 1, dim=1)[0,0], tsf.spectral_distance(X[0,:,0], 1))"
   ]
  },
  {
   "cell_type": "code",
   "execution_count": 88,
   "metadata": {},
   "outputs": [],
   "source": [
    "def max_power_spectrum(signal, fs):\n",
    "    if np.std(signal) == 0:\n",
    "        return float(max(scipy.signal.welch(signal, fs, nperseg=len(signal))[1]))\n",
    "    else:\n",
    "        return float(max(scipy.signal.welch(signal / np.std(signal), fs, nperseg=len(signal))[1]))"
   ]
  },
  {
   "cell_type": "code",
   "execution_count": 94,
   "metadata": {},
   "outputs": [
    {
     "name": "stdout",
     "output_type": "stream",
     "text": [
      "tensor(0.2294) 0.2294147586963452\n"
     ]
    }
   ],
   "source": [
    "def spectral_centroid(signal, fs, dim):\n",
    "    f, fmag = calc_fft(signal, fs, dim)\n",
    "    shape = [None] * len(signal.shape)\n",
    "    shape[dim] = slice(None, None, None)\n",
    "    return torch.sum(torch.multiply(f[shape], fmag / torch.sum(fmag, keepdim=True, dim=dim)), dim=dim)\n",
    "print(spectral_centroid(Y, 1, dim=1)[0,0], tsf.spectral_centroid(X[0,:,0], 1))"
   ]
  },
  {
   "cell_type": "code",
   "execution_count": 102,
   "metadata": {},
   "outputs": [
    {
     "name": "stdout",
     "output_type": "stream",
     "text": [
      "tensor(0.1481) 0.14810541841586658\n"
     ]
    }
   ],
   "source": [
    "def spectral_spread(signal, fs, dim):\n",
    "    f, fmag = calc_fft(signal, fs, dim)\n",
    "    spect_centroid = spectral_centroid(signal, fs, dim)\n",
    "    shape1 = [None] * len(signal.shape)\n",
    "    shape1[dim] = slice(None, None, None)\n",
    "    shape2 = [slice(None, None, None)] * len(signal.shape)\n",
    "    shape2[dim] = None\n",
    "    return torch.sum(torch.multiply(((f[shape1] - spect_centroid[shape2]) ** 2), (fmag / torch.sum(fmag, keepdim=True, dim=dim))), dim=dim) ** 0.5\n",
    "print(spectral_spread(Y, 1, dim=1)[0,0], tsf.spectral_spread(X[0,:,0], 1))"
   ]
  },
  {
   "cell_type": "code",
   "execution_count": 118,
   "metadata": {},
   "outputs": [
    {
     "name": "stdout",
     "output_type": "stream",
     "text": [
      "tensor(13)\n",
      "tensor(0.5000) 0.5\n"
     ]
    }
   ],
   "source": [
    "def max_frequency(signal, fs, dim):\n",
    "    f, fmag = calc_fft(signal, fs, dim)\n",
    "    cum_fmag = torch.cumsum(fmag, dim=dim)\n",
    "    shape = [slice(None, None, None)] * len(signal.shape)\n",
    "    shape[dim] = slice(-1, None, None)\n",
    "    try:\n",
    "        ind_mag = torch.sum(~(cum_fmag > cum_fmag[shape] * 0.95), dim)\n",
    "    except IndexError:\n",
    "        ind_mag = torch.argmax(cum_fmag, dim=dim)\n",
    "    print(ind_mag[0,0])\n",
    "    return f[ind_mag]\n",
    "print(max_frequency(Y, 1, dim=1)[0,0], tsf.max_frequency(X[0,:,0], 1))"
   ]
  },
  {
   "cell_type": "code",
   "execution_count": 132,
   "metadata": {},
   "outputs": [
    {
     "name": "stdout",
     "output_type": "stream",
     "text": [
      "tensor(0.2308) 0.23076923076923078\n"
     ]
    }
   ],
   "source": [
    "def median_frequency(signal, fs, dim):\n",
    "    f, fmag = calc_fft(signal, fs, dim)\n",
    "    cum_fmag = torch.cumsum(fmag, dim=dim)\n",
    "    shape = [slice(None, None, None)] * len(signal.shape)\n",
    "    shape[dim] = slice(-1, None, None)\n",
    "    try:\n",
    "        ind_mag = torch.sum(~(cum_fmag > cum_fmag[shape] * 0.5), dim)\n",
    "    except IndexError:\n",
    "        ind_mag = torch.argmax(cum_fmag, dim=dim)\n",
    "    return f[ind_mag]\n",
    "print(median_frequency(Y, 1, dim=1)[0,0], tsf.median_frequency(X[0,:,0], 1))"
   ]
  },
  {
   "cell_type": "code",
   "execution_count": 130,
   "metadata": {},
   "outputs": [
    {
     "name": "stdout",
     "output_type": "stream",
     "text": [
      "tensor(-0.1645) -0.1645408797869453\n"
     ]
    }
   ],
   "source": [
    "def spectral_decrease(signal, fs, dim):\n",
    "    f, fmag = calc_fft(signal, fs, dim)\n",
    "    shape = [slice(None, None, None)] * len(signal.shape)\n",
    "    shape[dim] = slice(1, None, None)\n",
    "    fmag_band = fmag[shape]\n",
    "    len_fmag_band = torch.arange(2, fmag.shape[dim] + 1)\n",
    "    shape1 = [slice(None, None, None)] * len(signal.shape)\n",
    "    shape1[dim] = slice(0, 1, None)\n",
    "    shape2 = [None] * len(signal.shape)\n",
    "    shape2[dim] = slice(None, None, None)\n",
    "    soma_num = torch.sum((fmag_band - fmag[shape1]) / (len_fmag_band - 1)[shape2], dim=dim)\n",
    "    soma_den = 1 / torch.sum(fmag_band, dim=dim)\n",
    "    return soma_den * soma_num\n",
    "print(spectral_decrease(Y, 1, dim=1)[0,0], tsf.spectral_decrease(X[0,:,0], 1))"
   ]
  },
  {
   "cell_type": "code",
   "execution_count": 136,
   "metadata": {},
   "outputs": [
    {
     "name": "stdout",
     "output_type": "stream",
     "text": [
      "tensor(1.9984) 1.9983559325528717\n"
     ]
    }
   ],
   "source": [
    "def spectral_kurtosis(signal, fs, dim):\n",
    "    f, fmag = calc_fft(signal, fs, dim)\n",
    "    shape1 = [None] * len(signal.shape)\n",
    "    shape1[dim] = slice(None, None, None)\n",
    "    shape2 = [slice(None, None, None)] * len(signal.shape)\n",
    "    shape2[dim] = None\n",
    "    spect_kurt = ((f[shape1] - spectral_centroid(signal, fs, dim)[shape2]) ** 4) * (fmag / torch.sum(fmag, keepdim=True, dim=dim))\n",
    "    return torch.sum(spect_kurt, dim=dim) / (spectral_spread(signal, fs, dim) ** 4)\n",
    "print(spectral_kurtosis(Y, 1, dim=1)[0,0], tsf.spectral_kurtosis(X[0,:,0], 1))"
   ]
  },
  {
   "cell_type": "code",
   "execution_count": null,
   "metadata": {},
   "outputs": [
    {
     "name": "stdout",
     "output_type": "stream",
     "text": [
      "tensor(13)\n",
      "tensor(0.5000) 0.5\n"
     ]
    }
   ],
   "source": [
    "def max_frequency(signal, fs, dim):\n",
    "    f, fmag = calc_fft(signal, fs, dim)\n",
    "    cum_fmag = torch.cumsum(fmag, dim=dim)\n",
    "    shape = [slice(None, None, None)] * len(signal.shape)\n",
    "    shape[dim] = slice(-1, None, None)\n",
    "    try:\n",
    "        ind_mag = torch.sum(~(cum_fmag > cum_fmag[shape] * 0.95), dim)\n",
    "    except IndexError:\n",
    "        ind_mag = torch.argmax(cum_fmag, dim=dim)\n",
    "    print(ind_mag[0,0])\n",
    "    return f[ind_mag]\n",
    "print(max_frequency(Y, 1, dim=1)[0,0], tsf.max_frequency(X[0,:,0], 1))"
   ]
  },
  {
   "cell_type": "code",
   "execution_count": 138,
   "metadata": {},
   "outputs": [
    {
     "name": "stdout",
     "output_type": "stream",
     "text": [
      "tensor(0.1338) 0.1338421498049864\n"
     ]
    }
   ],
   "source": [
    "def spectral_skewness(signal, fs, dim):\n",
    "    f, fmag = calc_fft(signal, fs, dim)\n",
    "    shape1 = [None] * len(signal.shape)\n",
    "    shape1[dim] = slice(None, None, None)\n",
    "    shape2 = [slice(None, None, None)] * len(signal.shape)\n",
    "    shape2[dim] = None\n",
    "    spect_kurt = ((f[shape1] - spectral_centroid(signal, fs, dim)[shape2]) ** 3) * (fmag / torch.sum(fmag, keepdim=True, dim=dim))\n",
    "    return torch.sum(spect_kurt, dim=dim) / (spectral_spread(signal, fs, dim) ** 3)\n",
    "print(spectral_skewness(Y, 1, dim=1)[0,0], tsf.spectral_skewness(X[0,:,0], 1))"
   ]
  },
  {
   "cell_type": "code",
   "execution_count": 141,
   "metadata": {},
   "outputs": [
    {
     "name": "stdout",
     "output_type": "stream",
     "text": [
      "tensor(-0.0612) -0.0611675741594314\n"
     ]
    }
   ],
   "source": [
    "def spectral_slope(signal, fs, dim):\n",
    "    f, fmag = calc_fft(signal, fs, dim)\n",
    "    sum_fmag = torch.sum(fmag, dim=dim)\n",
    "    dot_ff = (f * f).sum()\n",
    "    sum_f = f.sum()\n",
    "    len_f = len(f)\n",
    "    shape = [None] * len(signal.shape)\n",
    "    shape[dim] = slice(None, None, None)\n",
    "    num_ = (1 / sum_fmag) * (len_f * torch.sum(f[shape] * fmag, dim=dim) - sum_f * sum_fmag)\n",
    "    denom_ = len_f * dot_ff - sum_f**2\n",
    "    return num_ / denom_\n",
    "print(spectral_slope(Y, 1, dim=1)[0,0], tsf.spectral_slope(X[0,:,0], 1))"
   ]
  },
  {
   "cell_type": "code",
   "execution_count": 142,
   "metadata": {},
   "outputs": [
    {
     "name": "stdout",
     "output_type": "stream",
     "text": [
      "tensor(0.3954) 0.39538766507909007\n"
     ]
    }
   ],
   "source": [
    "def spectral_variation(signal, fs, dim):\n",
    "    f, fmag = calc_fft(signal, fs, dim)\n",
    "    shape1 = [slice(None, None, None)] * len(signal.shape)\n",
    "    shape1[dim] = slice(None, -1, None)\n",
    "    shape2 = [slice(None, None, None)] * len(signal.shape)\n",
    "    shape2[dim] = slice(1, None, None)\n",
    "    sum1 = torch.sum(fmag[shape1] * fmag[shape2], dim=dim)\n",
    "    sum2 = torch.sum(fmag[shape2] ** 2, dim=dim)\n",
    "    sum3 = torch.sum(fmag[shape1] ** 2, dim=dim)\n",
    "    variation = 1 - (sum1 / ((sum2**0.5) * (sum3**0.5)))\n",
    "    return variation\n",
    "print(spectral_variation(Y, 1, dim=1)[0,0], tsf.spectral_variation(X[0,:,0], 1))"
   ]
  },
  {
   "cell_type": "code",
   "execution_count": 143,
   "metadata": {},
   "outputs": [
    {
     "name": "stdout",
     "output_type": "stream",
     "text": [
      "tensor(6) 5\n"
     ]
    }
   ],
   "source": [
    "def spectral_positive_turning(signal, fs, dim):\n",
    "    f, fmag = calc_fft(signal, fs, dim)\n",
    "    diff_sig = torch.diff(fmag, dim=dim)\n",
    "    shape1 = [slice(None, None, None)] * len(signal.shape)\n",
    "    shape1[dim] = slice(None, -1, None)\n",
    "    shape2 = [slice(None, None, None)] * len(signal.shape)\n",
    "    shape2[dim] = slice(1, None, None)\n",
    "    diff_sig_sign = torch.sign(diff_sig)\n",
    "    sign_diff = diff_sig_sign[shape1] * diff_sig_sign[shape2]\n",
    "    return torch.sum((sign_diff<0) & (diff_sig_sign[shape1]<0), dim=dim)\n",
    "print(spectral_positive_turning(Y, 1, dim=1)[0,0], tsf.spectral_positive_turning(X[0,:,0], 1))"
   ]
  },
  {
   "cell_type": "code",
   "execution_count": 127,
   "metadata": {},
   "outputs": [
    {
     "name": "stdout",
     "output_type": "stream",
     "text": [
      "tensor(0.5000) 0.5\n"
     ]
    }
   ],
   "source": [
    "def spectral_roll_off(signal, fs, dim):\n",
    "    f, fmag = calc_fft(signal, fs, dim)\n",
    "    cum_ff = torch.cumsum(fmag, dim=dim)\n",
    "    value = 0.95 * (torch.sum(fmag, keepdim=True, dim=dim))\n",
    "    return f[torch.sum(~(cum_ff >= value), dim=dim)]\n",
    "print(spectral_roll_off(Y, 1, dim=1)[0,0], tsf.spectral_roll_off(X[0,:,0], 1))"
   ]
  },
  {
   "cell_type": "code",
   "execution_count": 126,
   "metadata": {},
   "outputs": [
    {
     "name": "stdout",
     "output_type": "stream",
     "text": [
      "tensor(0.) 0.0\n"
     ]
    }
   ],
   "source": [
    "def spectral_roll_on(signal, fs, dim):\n",
    "    f, fmag = calc_fft(signal, fs, dim)\n",
    "    cum_ff = torch.cumsum(fmag, dim=dim)\n",
    "    value = 0.05 * (torch.sum(fmag, keepdim=True, dim=dim))\n",
    "    return f[torch.sum(~(cum_ff >= value), dim=dim)]\n",
    "print(spectral_roll_on(Y, 1, dim=1)[0,0], tsf.spectral_roll_on(X[0,:,0], 1))"
   ]
  },
  {
   "cell_type": "code",
   "execution_count": 121,
   "metadata": {},
   "outputs": [
    {
     "name": "stdout",
     "output_type": "stream",
     "text": [
      "tensor(0.) 0.0\n"
     ]
    }
   ],
   "source": [
    "def human_range_energy(signal, fs, dim):\n",
    "    f, fmag = calc_fft(signal, fs, dim)\n",
    "    allenergy = torch.sum(fmag**2, dim=dim)\n",
    "    shape = [slice(None, None, None)] * len(signal.shape)\n",
    "    shape[dim] = slice(torch.argmin(torch.abs(0.6 - f)), torch.argmin(torch.abs(2.5 - f)), None)\n",
    "    hr_energy = torch.sum(fmag[shape] ** 2, dim=dim)\n",
    "    ratio = hr_energy / allenergy\n",
    "    return ratio\n",
    "print(human_range_energy(Y, 1, dim=1)[0,0], tsf.human_range_energy(X[0,:,0], 1))"
   ]
  },
  {
   "cell_type": "code",
   "execution_count": null,
   "metadata": {},
   "outputs": [],
   "source": [
    "def filterbank(signal, fs, pre_emphasis=0.97, nfft=512, nfilt=40):\n",
    "    \"\"\"Computes the MEL-spaced filterbank.\n",
    "\n",
    "    It provides the information about the power in each frequency band.\n",
    "\n",
    "    Implementation details and description on:\n",
    "    https://www.kaggle.com/ilyamich/mfcc-implementation-and-tutorial\n",
    "    https://haythamfayek.com/2016/04/21/speech-processing-for-machine-learning.html#fnref:1\n",
    "\n",
    "    Parameters\n",
    "    ----------\n",
    "    signal : nd-array\n",
    "        Input from which filterbank is computed\n",
    "    fs : float\n",
    "        Sampling frequency\n",
    "    pre_emphasis : float\n",
    "        Pre-emphasis coefficient for pre-emphasis filter application\n",
    "    nfft : int\n",
    "        Number of points of fft\n",
    "    nfilt : int\n",
    "        Number of filters\n",
    "\n",
    "    Returns\n",
    "    -------\n",
    "    nd-array\n",
    "        MEL-spaced filterbank\n",
    "    \"\"\"\n",
    "\n",
    "    # Signal is already a window from the original signal, so no frame is needed.\n",
    "    # According to the references it is needed the application of a window function such as\n",
    "    # hann window. However if the signal windows don't have overlap, we will lose information,\n",
    "    # as the application of a hann window will overshadow the windows signal edges.\n",
    "\n",
    "    # pre-emphasis filter to amplify the high frequencies\n",
    "\n",
    "    emphasized_signal = np.append(\n",
    "        np.array(signal)[0],\n",
    "        np.array(signal[1:]) - pre_emphasis * np.array(signal[:-1]),\n",
    "    )\n",
    "\n",
    "    # Fourier transform and Power spectrum\n",
    "    mag_frames = np.absolute(\n",
    "        np.fft.rfft(emphasized_signal, nfft),\n",
    "    )  # Magnitude of the FFT\n",
    "\n",
    "    pow_frames = (1.0 / nfft) * (mag_frames**2)  # Power Spectrum\n",
    "\n",
    "    low_freq_mel = 0\n",
    "    high_freq_mel = 2595 * np.log10(1 + (fs / 2) / 700)  # Convert Hz to Mel\n",
    "    mel_points = np.linspace(\n",
    "        low_freq_mel,\n",
    "        high_freq_mel,\n",
    "        nfilt + 2,\n",
    "    )  # Equally spaced in Mel scale\n",
    "    hz_points = 700 * (10 ** (mel_points / 2595) - 1)  # Convert Mel to Hz\n",
    "    filter_bin = np.floor((nfft + 1) * hz_points / fs)\n",
    "\n",
    "    fbank = np.zeros((nfilt, int(np.floor(nfft / 2 + 1))))\n",
    "    for m in np.arange(1, nfilt + 1):\n",
    "\n",
    "        f_m_minus = int(filter_bin[m - 1])  # left\n",
    "        f_m = int(filter_bin[m])  # center\n",
    "        f_m_plus = int(filter_bin[m + 1])  # right\n",
    "\n",
    "        for k in np.arange(f_m_minus, f_m):\n",
    "            fbank[m - 1, k] = (k - filter_bin[m - 1]) / (filter_bin[m] - filter_bin[m - 1])\n",
    "        for k in np.arange(f_m, f_m_plus):\n",
    "            fbank[m - 1, k] = (filter_bin[m + 1] - k) / (filter_bin[m + 1] - filter_bin[m])\n",
    "\n",
    "    # Area Normalization\n",
    "    # If we don't normalize the noise will increase with frequency because of the filter width.\n",
    "    enorm = 2.0 / (hz_points[2 : nfilt + 2] - hz_points[:nfilt])\n",
    "    fbank *= enorm[:, np.newaxis]\n",
    "\n",
    "    filter_banks = np.dot(pow_frames, fbank.T)\n",
    "    filter_banks = np.where(\n",
    "        filter_banks == 0,\n",
    "        np.finfo(float).eps,\n",
    "        filter_banks,\n",
    "    )  # Numerical Stability\n",
    "    filter_banks = 20 * np.log10(filter_banks)  # dB\n",
    "\n",
    "    return filter_banks\n",
    "\n",
    "def mfcc(signal, fs, pre_emphasis=0.97, nfft=512, nfilt=40, num_ceps=12, cep_lifter=22):\n",
    "    filter_banks = filterbank(signal, fs, pre_emphasis, nfft, nfilt)\n",
    "    mel_coeff = scipy.fft.dct(filter_banks, type=2, axis=0, norm=\"ortho\")[1 : (num_ceps + 1)]  # Keep 2-13\n",
    "    mel_coeff -= np.mean(mel_coeff, axis=0) + 1e-8\n",
    "    # liftering\n",
    "    ncoeff = len(mel_coeff)\n",
    "    n = np.arange(ncoeff)\n",
    "    lift = 1 + (cep_lifter / 2) * np.sin(np.pi * n / cep_lifter)  # cep_lifter = 22 from python_speech_features library\n",
    "    mel_coeff *= lift\n",
    "    return tuple(mel_coeff)\n",
    "print(mfcc(Y, 5), tsf.mfcc(X, 5))\n",
    "np.isclose(mfcc(Y, 5), tsf.mfcc(X, 5)).all()"
   ]
  },
  {
   "cell_type": "code",
   "execution_count": 18,
   "metadata": {},
   "outputs": [
    {
     "data": {
      "text/plain": [
       "(tensor([0.0000, 0.1000, 0.2000, 0.3000, 0.4000, 0.5000]),\n",
       " tensor([[0.5287, 1.7273, 1.9764, 1.9345, 1.8635, 0.6566]]))"
      ]
     },
     "execution_count": 18,
     "metadata": {},
     "output_type": "execute_result"
    }
   ],
   "source": [
    "def _periodogram(X: torch.Tensor, fs, detrend, scaling):\n",
    "    if X.dim() > 2:\n",
    "        X = torch.squeeze(X)\n",
    "    elif X.dim() == 1:\n",
    "        X = X.unsqueeze(0)\n",
    "\n",
    "    if detrend:\n",
    "        X -= X.mean(-1, keepdim=True)\n",
    "\n",
    "    N = X.size(-1)\n",
    "    assert N % 2 == 0\n",
    "\n",
    "    df = fs / N\n",
    "    dt = df\n",
    "    f = torch.arange(0, N / 2 + 1) * df  # [0:df:f/2]\n",
    "\n",
    "    dual_side = torch.fft.fft(X)  # 双边谱\n",
    "    half_idx = int(N / 2 + 1)\n",
    "    single_side = dual_side[:, 0:half_idx]\n",
    "    win = torch.abs(single_side)\n",
    "\n",
    "    ps = win ** 2\n",
    "    if scaling == 'density':  # 计算功率谱密度\n",
    "        scale = N * fs\n",
    "    elif scaling == 'spectrum':  # 计算功率谱\n",
    "        scale = N ** 2\n",
    "    elif scaling is None: # 不做缩放\n",
    "        scale = 1\n",
    "    else:\n",
    "        raise ValueError('Unknown scaling: %r' % scaling)\n",
    "    Pxy = ps / scale\n",
    "\n",
    "    Pxy[:, 1:-1] *= 2  # 能量2倍;直流分量不用二倍, 中心频率点不用二倍\n",
    "\n",
    "    return f, Pxy.squeeze()\n",
    "\n",
    "\n",
    "def periodogram(X: torch.Tensor, fs=256, detrend=False, scaling='density', no_grad=True):\n",
    "    \"\"\"计算信号单边 PSD, 基本等价于 scipy.signal.periodogram\n",
    "    \n",
    "        Parameters:\n",
    "        ----------\n",
    "            - `X`:          torch.Tensor, EEG, [T]/[N, T]\n",
    "            - `fs`:         int, 采样率, Hz\n",
    "            - `detrend`:    bool, 是否去趋势 (去除直流分量)\n",
    "            - `scaling`:    { 'density', 'spectrum' }, 可选\n",
    "                - 'density':    计算功率谱密度 `(V ** 2 / Hz)`\n",
    "                - 'spectrum':    计算功率谱 `(V ** 2)`\n",
    "            - `no_grad`:    bool, 是否启用 no_grad() 模式\n",
    "    \n",
    "        Returns:\n",
    "        ----------\n",
    "            - `Pxy`:    Tensor, 单边功率谱\n",
    "    \"\"\"\n",
    "    if no_grad:\n",
    "        with torch.no_grad():\n",
    "            return _periodogram(X, fs, detrend, scaling)\n",
    "    else:\n",
    "        return _periodogram(X, fs, detrend, scaling)\n",
    "    \n",
    "def _get_window(window, nwlen, device):\n",
    "    if window == 'hann':\n",
    "        window = torch.hann_window(\n",
    "            nwlen, dtype=torch.float32, device=device, periodic=False\n",
    "        )\n",
    "    elif window == 'hamming':\n",
    "        window = torch.hamming_window(\n",
    "            nwlen, dtype=torch.float32, device=device, periodic=False\n",
    "        )\n",
    "    elif window == 'blackman':\n",
    "        window = torch.blackman_window(\n",
    "            nwlen, dtype=torch.float32, device=device, periodic=False\n",
    "        )\n",
    "    elif window == 'boxcar':\n",
    "        window = torch.ones(nwlen, dtype=torch.float32, device=device)\n",
    "    else:\n",
    "        raise ValueError('Invalid Window {}' % window)\n",
    "    return window\n",
    "\n",
    "\n",
    "def _pwelch(X: torch.Tensor, fs, detrend, scaling, window, nwlen, nhop):\n",
    "    if scaling == 'density':\n",
    "        scale = (fs * (window * window).sum().item())\n",
    "    elif scaling == 'spectrum':\n",
    "        scale = window.sum().item() ** 2\n",
    "    else:\n",
    "        raise ValueError('Unknown scaling: %r' % scaling)\n",
    "    # --------------- Fold and windowing --------------- #\n",
    "    N, T = X.size(0), X.size(-1)\n",
    "    X = X.view(N, 1, 1, T)\n",
    "    X_fold = F.unfold(X, (1, nwlen), stride=nhop)  # [N, 1, 1, T] -> [N, nwlen, win_cnt]\n",
    "    if detrend:\n",
    "        X_fold -= X_fold.mean(1, keepdim=True) # 各个窗口各自detrend\n",
    "    window = window.view(1, -1, 1)  # [1, nwlen, 1]\n",
    "    X_windowed = X_fold * window  # [N, nwlen, win_cnt]\n",
    "    win_cnt = X_windowed.size(-1)\n",
    "\n",
    "    # --------------- Pwelch --------------- #\n",
    "    X_windowed = X_windowed.transpose(1, 2).contiguous()  # [N, win_cnt, nwlen]\n",
    "    X_windowed = X_windowed.view(N * win_cnt, nwlen)  # [N * win_cnt, nwlen]\n",
    "    f, pxx = _periodogram(\n",
    "        X_windowed, fs, detrend=False, scaling=None\n",
    "    )  # [N * win_cnt, nwlen // 2 + 1]\n",
    "    pxx /= scale\n",
    "    pxx = pxx.view(N, win_cnt, -1)  # [N, win_cnt, nwlen // 2 + 1]\n",
    "    pxx = torch.mean(pxx, dim=1)  # [N, nwlen // 2 + 1]\n",
    "    return f, pxx\n",
    "\n",
    "\n",
    "def pwelch(\n",
    "    X: torch.Tensor,\n",
    "    fs=256,\n",
    "    detrend=False,\n",
    "    scaling='density',\n",
    "    window='hann',\n",
    "    nwlen=128,\n",
    "    nhop=None,\n",
    "    no_grad=True,\n",
    "):\n",
    "    \"\"\"Pwelch 方法，大致相当于 scipy.signal.welch\n",
    "\n",
    "        Parameters:\n",
    "        ----------\n",
    "            - `X`:          torch.Tensor, EEG, [T]/[N, T]\n",
    "            - `fs`:         int, 采样率, Hz\n",
    "            - `detrend`:    bool, 是否去趋势 (去除直流分量)\n",
    "            - `scaling`:    { 'density', 'spectrum' }, 可选\n",
    "                - 'density':    计算功率谱密度 `(V ** 2 / Hz)`\n",
    "                - 'spectrum':    计算功率谱 `(V ** 2)`\n",
    "            - `window`:     str, 窗函数名称\n",
    "            - `nwlen`:      int, 窗函数长度 (点的个数)\n",
    "            - `nhop`:       int, 窗函数移动步长, 即 nwlen - noverlap (点的个数)\n",
    "                            如果为 None，则默认为 `nwlen // 2`\n",
    "            - `no_grad`:    bool, 是否启用 no_grad() 模式\n",
    "    \n",
    "        Returns:\n",
    "        ----------\n",
    "            - `Pxy`:    Tensor, 单边功率谱\n",
    "    \"\"\"\n",
    "    nhop = nwlen // 2 if nhop is None else nhop\n",
    "    window = _get_window(window, nwlen, X.device)\n",
    "    if no_grad:\n",
    "        with torch.no_grad():\n",
    "            return _pwelch(X, fs, detrend, scaling, window, nwlen, nhop)\n",
    "    else:\n",
    "        return _pwelch(X, fs, detrend, scaling, window, nwlen, nhop)\n",
    "pwelch(torch.stack([Y], dim=0), fs=1, window = \"hann\", scaling = 'density', detrend=True, nwlen=10, nhop=5)"
   ]
  },
  {
   "cell_type": "code",
   "execution_count": 19,
   "metadata": {},
   "outputs": [
    {
     "data": {
      "text/plain": [
       "(array([0. , 0.1, 0.2, 0.3, 0.4, 0.5]),\n",
       " array([0.38725113, 1.77615456, 1.9841756 , 1.96212444, 1.90009807,\n",
       "        0.66686779]))"
      ]
     },
     "execution_count": 19,
     "metadata": {},
     "output_type": "execute_result"
    }
   ],
   "source": [
    "import scipy\n",
    "scipy.signal.welch(X, fs=1., window = \"hann\", scaling = 'density', nperseg=10, noverlap=5)"
   ]
  },
  {
   "cell_type": "code",
   "execution_count": 142,
   "metadata": {},
   "outputs": [
    {
     "name": "stdout",
     "output_type": "stream",
     "text": [
      "tensor(0.9011) 0.9010709860682248\n"
     ]
    },
    {
     "data": {
      "text/plain": [
       "np.True_"
      ]
     },
     "execution_count": 142,
     "metadata": {},
     "output_type": "execute_result"
    }
   ],
   "source": [
    "def spectral_entropy(signal, fs):\n",
    "    # Removing DC component\n",
    "    sig = signal - torch.mean(signal)\n",
    "    f, fmag = calc_fft(sig, fs)\n",
    "    power = fmag**2\n",
    "    if power.sum() == 0:\n",
    "        return 0.0\n",
    "    prob = torch.divide(power, power.sum())\n",
    "    prob = prob[prob != 0]\n",
    "    # If probability all in one value, there is no entropy\n",
    "    if prob.size() == 1:\n",
    "        return 0.0\n",
    "    return -torch.multiply(prob, torch.log2(prob)).sum() / np.log2(prob.size()[0])\n",
    "print(spectral_entropy(Y, 5), tsf.spectral_entropy(X, 5))\n",
    "np.isclose(spectral_entropy(Y, 5), tsf.spectral_entropy(X, 5)).all()"
   ]
  },
  {
   "cell_type": "code",
   "execution_count": 156,
   "metadata": {},
   "outputs": [
    {
     "name": "stdout",
     "output_type": "stream",
     "text": [
      "tensor(2.1943, dtype=torch.float64) 2.194275773109381\n"
     ]
    },
    {
     "data": {
      "text/plain": [
       "np.True_"
      ]
     },
     "execution_count": 156,
     "metadata": {},
     "output_type": "execute_result"
    }
   ],
   "source": [
    "import ptwt\n",
    "def continuous_wavelet_transform(signal, fs, wavelet=\"mexh\", widths=np.arange(1, 10)):\n",
    "    coefficients, frequencies = ptwt.cwt(signal, widths, wavelet, sampling_period=1 / fs)\n",
    "    return coefficients, frequencies\n",
    "\n",
    "def wavelet_entropy(signal, fs, wavelet=\"mexh\", max_width=10):\n",
    "    if torch.sum(signal) == 0:\n",
    "        return 0.0\n",
    "    max_width = int(max_width)\n",
    "    widths = torch.arange(1, max_width)\n",
    "    coeffs, _ = continuous_wavelet_transform(signal=signal, fs=fs, wavelet=wavelet, widths=widths)\n",
    "    energy_scale = torch.sum(torch.abs(coeffs), axis=1)\n",
    "    t_energy = torch.sum(energy_scale)\n",
    "    prob = energy_scale / t_energy\n",
    "    w_entropy = -torch.sum(prob * torch.log(prob))\n",
    "    return w_entropy\n",
    "print(wavelet_entropy(Y, 5), tsf.wavelet_entropy(X, 5))\n",
    "np.isclose(wavelet_entropy(Y, 5), tsf.wavelet_entropy(X, 5)).all()"
   ]
  },
  {
   "cell_type": "code",
   "execution_count": 160,
   "metadata": {},
   "outputs": [
    {
     "name": "stdout",
     "output_type": "stream",
     "text": [
      "{'names': ['1.25Hz', '0.62Hz', '0.42Hz', '0.31Hz', '0.25Hz', '0.21Hz', '0.18Hz', '0.16Hz', '0.14Hz'], 'values': tensor([0.0014, 0.0070, 0.0149, 0.0281, 0.0416, 0.0536, 0.0606, 0.0614, 0.0555],\n",
      "       dtype=torch.float64)}\n",
      "{'names': ['1.25Hz', '0.62Hz', '0.42Hz', '0.31Hz', '0.25Hz', '0.21Hz', '0.18Hz', '0.16Hz', '0.14Hz'], 'values': array([0.00143808, 0.0070053 , 0.01492294, 0.02811977, 0.04157084,\n",
      "       0.05357599, 0.06063112, 0.06140213, 0.05549297])}\n"
     ]
    },
    {
     "name": "stderr",
     "output_type": "stream",
     "text": [
      "/tmp/ipykernel_8324/210573967.py:6: DeprecationWarning: __array_wrap__ must accept context and return_scalar arguments (positionally) in the future. (Deprecated NumPy 2.0)\n",
      "  return {\"names\": [f + \"Hz\" for f in f_keys], \"values\": np.abs(torch.mean(coeffs, axis=1))}\n"
     ]
    }
   ],
   "source": [
    "def wavelet_abs_mean(signal, fs, wavelet=\"mexh\", max_width=10):\n",
    "    max_width = int(max_width)\n",
    "    widths = torch.arange(1, max_width)\n",
    "    coeffs, frequencies = continuous_wavelet_transform(signal=signal, fs=fs, wavelet=wavelet, widths=widths)\n",
    "    f_keys = np.round(frequencies, 2).astype(str)\n",
    "    return {\"names\": [f + \"Hz\" for f in f_keys], \"values\": np.abs(torch.mean(coeffs, axis=1))}\n",
    "print(wavelet_abs_mean(Y, 5))\n",
    "print(tsf.wavelet_abs_mean(X, 5))"
   ]
  },
  {
   "cell_type": "code",
   "execution_count": 161,
   "metadata": {},
   "outputs": [
    {
     "name": "stdout",
     "output_type": "stream",
     "text": [
      "{'names': ['1.25Hz', '0.62Hz', '0.42Hz', '0.31Hz', '0.25Hz', '0.21Hz', '0.18Hz', '0.16Hz', '0.14Hz'], 'values': tensor([1.0915, 0.9627, 1.0173, 1.0528, 1.0864, 1.1374, 1.1539, 1.1118, 1.0266],\n",
      "       dtype=torch.float64)}\n",
      "{'names': ['1.25Hz', '0.62Hz', '0.42Hz', '0.31Hz', '0.25Hz', '0.21Hz', '0.18Hz', '0.16Hz', '0.14Hz'], 'values': array([1.08604507, 0.95790926, 1.012239  , 1.04754014, 1.08095311,\n",
      "       1.13165147, 1.14812133, 1.10618824, 1.02148187])}\n"
     ]
    }
   ],
   "source": [
    "def wavelet_std(signal, fs, wavelet=\"mexh\", max_width=10):\n",
    "    max_width = int(max_width)\n",
    "    widths = torch.arange(1, max_width)\n",
    "    coeffs, frequencies = continuous_wavelet_transform(signal=signal, fs=fs, wavelet=wavelet, widths=widths)\n",
    "    f_keys = np.round(frequencies, 2).astype(str)\n",
    "    return {\"names\": [f + \"Hz\" for f in f_keys], \"values\": torch.std(coeffs, axis=1)}\n",
    "print(wavelet_std(Y, 5))\n",
    "print(tsf.wavelet_std(X, 5))"
   ]
  },
  {
   "cell_type": "code",
   "execution_count": 163,
   "metadata": {},
   "outputs": [
    {
     "name": "stdout",
     "output_type": "stream",
     "text": [
      "{'names': ['1.25Hz', '0.62Hz', '0.42Hz', '0.31Hz', '0.25Hz', '0.21Hz', '0.18Hz', '0.16Hz', '0.14Hz'], 'values': tensor([1.1914, 0.9269, 1.0350, 1.1084, 1.1803, 1.2936, 1.3315, 1.2360, 1.0540],\n",
      "       dtype=torch.float64)}\n",
      "{'names': ['1.25Hz', '0.62Hz', '0.42Hz', '0.31Hz', '0.25Hz', '0.21Hz', '0.18Hz', '0.16Hz', '0.14Hz'], 'values': array([1.1794939 , 0.91759014, 1.02462779, 1.09734035, 1.16845962,\n",
      "       1.28063505, 1.3181826 , 1.22365243, 1.0434252 ])}\n"
     ]
    }
   ],
   "source": [
    "def wavelet_var(signal, fs, wavelet=\"mexh\", max_width=10):\n",
    "    max_width = int(max_width)\n",
    "    widths = torch.arange(1, max_width)\n",
    "    coeffs, frequencies = continuous_wavelet_transform(signal=signal, fs=fs, wavelet=wavelet, widths=widths)\n",
    "    f_keys = np.round(frequencies, 2).astype(str)\n",
    "    return {\"names\": [f + \"Hz\" for f in f_keys], \"values\": torch.var(coeffs, axis=1)}\n",
    "print(wavelet_var(Y, 5))\n",
    "print(tsf.wavelet_var(X, 5))"
   ]
  },
  {
   "cell_type": "code",
   "execution_count": 164,
   "metadata": {},
   "outputs": [
    {
     "name": "stdout",
     "output_type": "stream",
     "text": [
      "{'names': ['1.25Hz', '0.62Hz', '0.42Hz', '0.31Hz', '0.25Hz', '0.21Hz', '0.18Hz', '0.16Hz', '0.14Hz'], 'values': tensor([1.0860, 0.9579, 1.0123, 1.0479, 1.0818, 1.1329, 1.1497, 1.1079, 1.0230],\n",
      "       dtype=torch.float64)}\n",
      "{'names': ['1.25Hz', '0.62Hz', '0.42Hz', '0.31Hz', '0.25Hz', '0.21Hz', '0.18Hz', '0.16Hz', '0.14Hz'], 'values': array([1.08604602, 0.95793487, 1.01234899, 1.04791749, 1.08175217,\n",
      "       1.13291899, 1.14972115, 1.10789108, 1.02298811])}\n"
     ]
    }
   ],
   "source": [
    "def wavelet_energy(signal, fs, wavelet=\"mexh\", max_width=10):\n",
    "    max_width = int(max_width)\n",
    "    widths = torch.arange(1, max_width)\n",
    "    coeffs, frequencies = continuous_wavelet_transform(signal=signal, fs=fs, wavelet=wavelet, widths=widths)\n",
    "    f_keys = np.round(frequencies, 2).astype(str)\n",
    "    return {\"names\": [f + \"Hz\" for f in f_keys], \"values\": torch.sqrt(torch.sum(coeffs**2, axis=1) / coeffs.shape[1])}\n",
    "print(wavelet_energy(Y, 5))\n",
    "print(tsf.wavelet_energy(X, 5))"
   ]
  },
  {
   "cell_type": "code",
   "execution_count": 165,
   "metadata": {},
   "outputs": [
    {
     "name": "stdout",
     "output_type": "stream",
     "text": [
      "tensor(1.0528) 1.0528369071450172\n"
     ]
    },
    {
     "name": "stderr",
     "output_type": "stream",
     "text": [
      "/tmp/ipykernel_8324/2060534809.py:5: DeprecationWarning: __array_wrap__ must accept context and return_scalar arguments (positionally) in the future. (Deprecated NumPy 2.0)\n",
      "  pfd = np.log10(n) / (np.log10(n) + np.log10(n / (n + 0.4 * num_sign_changes)))\n"
     ]
    },
    {
     "data": {
      "text/plain": [
       "np.True_"
      ]
     },
     "execution_count": 165,
     "metadata": {},
     "output_type": "execute_result"
    }
   ],
   "source": [
    "def petrosian_fractal_dimension(signal):\n",
    "    n = len(signal)\n",
    "    diff_signal = torch.diff(torch.sign(torch.diff(signal)))\n",
    "    num_sign_changes = torch.sum(diff_signal != 0)\n",
    "    pfd = np.log10(n) / (np.log10(n) + np.log10(n / (n + 0.4 * num_sign_changes)))\n",
    "    return pfd\n",
    "print(petrosian_fractal_dimension(Y), tsf.petrosian_fractal_dimension(X))\n",
    "np.isclose(petrosian_fractal_dimension(Y), tsf.petrosian_fractal_dimension(X)).all()"
   ]
  },
  {
   "cell_type": "code",
   "execution_count": null,
   "metadata": {},
   "outputs": [],
   "source": []
  }
 ],
 "metadata": {
  "kernelspec": {
   "display_name": "base",
   "language": "python",
   "name": "python3"
  },
  "language_info": {
   "codemirror_mode": {
    "name": "ipython",
    "version": 3
   },
   "file_extension": ".py",
   "mimetype": "text/x-python",
   "name": "python",
   "nbconvert_exporter": "python",
   "pygments_lexer": "ipython3",
   "version": "3.12.4"
  }
 },
 "nbformat": 4,
 "nbformat_minor": 2
}
