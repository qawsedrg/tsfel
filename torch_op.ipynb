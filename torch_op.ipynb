{
 "cells": [
  {
   "cell_type": "code",
   "execution_count": 1,
   "metadata": {},
   "outputs": [],
   "source": [
    "import torch\n",
    "import torch.nn as nn\n",
    "import torch.nn.functional as F\n",
    "\n",
    "import tsfel.feature_extraction as tsf\n",
    "\n",
    "import numpy as np\n",
    "\n",
    "import torchaudio"
   ]
  },
  {
   "cell_type": "code",
   "execution_count": 2,
   "metadata": {},
   "outputs": [],
   "source": [
    "X = np.random.randn(100)\n",
    "Y = torch.Tensor(X)"
   ]
  },
  {
   "cell_type": "code",
   "execution_count": 25,
   "metadata": {},
   "outputs": [
    {
     "data": {
      "text/plain": [
       "np.True_"
      ]
     },
     "execution_count": 25,
     "metadata": {},
     "output_type": "execute_result"
    }
   ],
   "source": [
    "def compute_time(signal, fs):\n",
    "    return torch.arange(0, len(signal)) / fs\n",
    "np.isclose(compute_time(Y, 5), tsf.compute_time(X, 5)).all()"
   ]
  },
  {
   "cell_type": "code",
   "execution_count": 24,
   "metadata": {},
   "outputs": [
    {
     "data": {
      "text/plain": [
       "tensor([ 0.,  1.,  2.,  3.,  4.,  5.,  6.,  7.,  8.,  9., 10., 11., 12., 13.,\n",
       "        14., 15., 16., 17., 18., 19., 20., 21., 22., 23., 24., 25.])"
      ]
     },
     "execution_count": 24,
     "metadata": {},
     "output_type": "execute_result"
    }
   ],
   "source": [
    "compute_time(Y, 1, dim=1)"
   ]
  },
  {
   "cell_type": "code",
   "execution_count": 27,
   "metadata": {},
   "outputs": [
    {
     "name": "stdout",
     "output_type": "stream",
     "text": [
      "tensor(9.6619)\n"
     ]
    },
    {
     "data": {
      "text/plain": [
       "np.True_"
      ]
     },
     "execution_count": 27,
     "metadata": {},
     "output_type": "execute_result"
    }
   ],
   "source": [
    "def calc_centroid(signal, fs):\n",
    "    time = compute_time(signal, fs)\n",
    "    energy = signal ** 2\n",
    "    t_energy = torch.dot(time, energy)\n",
    "    energy_sum = torch.sum(energy)\n",
    "    if energy_sum == 0 or t_energy == 0:\n",
    "        centroid = 0\n",
    "    else:\n",
    "        centroid = t_energy / energy_sum\n",
    "    return centroid\n",
    "print(calc_centroid(Y, 5))\n",
    "np.isclose(calc_centroid(Y, 5), tsf.calc_centroid(X, 5)).all()"
   ]
  },
  {
   "cell_type": "code",
   "execution_count": 28,
   "metadata": {},
   "outputs": [
    {
     "name": "stdout",
     "output_type": "stream",
     "text": [
      "33\n"
     ]
    },
    {
     "data": {
      "text/plain": [
       "np.True_"
      ]
     },
     "execution_count": 28,
     "metadata": {},
     "output_type": "execute_result"
    }
   ],
   "source": [
    "def negative_turning(signal):\n",
    "    diff_sig = torch.diff(signal)\n",
    "    array_signal = torch.arange(len(diff_sig[:-1]))\n",
    "    negative_turning_pts = torch.where((diff_sig[array_signal] < 0) & (diff_sig[array_signal + 1] > 0))[0]\n",
    "    return len(negative_turning_pts)\n",
    "print(negative_turning(Y))\n",
    "np.isclose(negative_turning(Y), tsf.negative_turning(X)).all()"
   ]
  },
  {
   "cell_type": "code",
   "execution_count": 29,
   "metadata": {},
   "outputs": [
    {
     "name": "stdout",
     "output_type": "stream",
     "text": [
      "32\n"
     ]
    },
    {
     "data": {
      "text/plain": [
       "np.True_"
      ]
     },
     "execution_count": 29,
     "metadata": {},
     "output_type": "execute_result"
    }
   ],
   "source": [
    "def positive_turning(signal):\n",
    "    diff_sig = torch.diff(signal)\n",
    "    array_signal = torch.arange(len(diff_sig[:-1]))\n",
    "    positive_turning_pts = torch.where((diff_sig[array_signal + 1] < 0) & (diff_sig[array_signal] > 0))[0]\n",
    "    return len(positive_turning_pts)\n",
    "print(positive_turning(Y))\n",
    "np.isclose(positive_turning(Y), tsf.positive_turning(X)).all()"
   ]
  },
  {
   "cell_type": "code",
   "execution_count": 38,
   "metadata": {},
   "outputs": [
    {
     "name": "stdout",
     "output_type": "stream",
     "text": [
      "tensor(1.4356)\n"
     ]
    },
    {
     "data": {
      "text/plain": [
       "np.True_"
      ]
     },
     "execution_count": 38,
     "metadata": {},
     "output_type": "execute_result"
    }
   ],
   "source": [
    "def mean_abs_diff(signal):\n",
    "    return torch.mean(torch.abs(torch.diff(signal)))\n",
    "print(mean_abs_diff(Y))\n",
    "np.isclose(mean_abs_diff(Y), tsf.mean_abs_diff(X)).all()"
   ]
  },
  {
   "cell_type": "code",
   "execution_count": 39,
   "metadata": {},
   "outputs": [
    {
     "name": "stdout",
     "output_type": "stream",
     "text": [
      "tensor(0.0027)\n"
     ]
    },
    {
     "data": {
      "text/plain": [
       "np.True_"
      ]
     },
     "execution_count": 39,
     "metadata": {},
     "output_type": "execute_result"
    }
   ],
   "source": [
    "def mean_diff(signal):\n",
    "    return torch.mean(torch.diff(signal))\n",
    "print(mean_diff(Y))\n",
    "np.isclose(mean_diff(Y), tsf.mean_diff(X)).all()"
   ]
  },
  {
   "cell_type": "code",
   "execution_count": 37,
   "metadata": {},
   "outputs": [
    {
     "name": "stdout",
     "output_type": "stream",
     "text": [
      "tensor(1.1030)\n"
     ]
    },
    {
     "data": {
      "text/plain": [
       "np.True_"
      ]
     },
     "execution_count": 37,
     "metadata": {},
     "output_type": "execute_result"
    }
   ],
   "source": [
    "def median_abs_diff(signal):\n",
    "    return torch.median(torch.abs(torch.diff(signal)))\n",
    "print(median_abs_diff(Y))\n",
    "np.isclose(median_abs_diff(Y), tsf.median_abs_diff(X)).all()"
   ]
  },
  {
   "cell_type": "code",
   "execution_count": 36,
   "metadata": {},
   "outputs": [
    {
     "name": "stdout",
     "output_type": "stream",
     "text": [
      "tensor(-0.0069)\n"
     ]
    },
    {
     "data": {
      "text/plain": [
       "np.True_"
      ]
     },
     "execution_count": 36,
     "metadata": {},
     "output_type": "execute_result"
    }
   ],
   "source": [
    "def median_diff(signal):\n",
    "    return torch.median(torch.diff(signal))\n",
    "print(median_diff(Y))\n",
    "np.isclose(median_diff(Y), tsf.median_diff(X)).all()"
   ]
  },
  {
   "cell_type": "code",
   "execution_count": 41,
   "metadata": {},
   "outputs": [
    {
     "name": "stdout",
     "output_type": "stream",
     "text": [
      "tensor(183.9422)\n"
     ]
    },
    {
     "data": {
      "text/plain": [
       "np.True_"
      ]
     },
     "execution_count": 41,
     "metadata": {},
     "output_type": "execute_result"
    }
   ],
   "source": [
    "def distance(signal):\n",
    "    diff_sig = torch.diff(signal)\n",
    "    return torch.sum(torch.sqrt(1 + diff_sig**2))\n",
    "print(distance(Y))\n",
    "np.isclose(distance(Y), tsf.distance(X)).all()"
   ]
  },
  {
   "cell_type": "code",
   "execution_count": 34,
   "metadata": {},
   "outputs": [
    {
     "name": "stdout",
     "output_type": "stream",
     "text": [
      "tensor(142.1246)\n"
     ]
    },
    {
     "data": {
      "text/plain": [
       "np.True_"
      ]
     },
     "execution_count": 34,
     "metadata": {},
     "output_type": "execute_result"
    }
   ],
   "source": [
    "def sum_abs_diff(signal):\n",
    "    return torch.sum(torch.abs(torch.diff(signal)))\n",
    "print(sum_abs_diff(Y))\n",
    "np.isclose(sum_abs_diff(Y), tsf.sum_abs_diff(X)).all()"
   ]
  },
  {
   "cell_type": "code",
   "execution_count": 33,
   "metadata": {},
   "outputs": [
    {
     "name": "stdout",
     "output_type": "stream",
     "text": [
      "54\n"
     ]
    },
    {
     "data": {
      "text/plain": [
       "np.True_"
      ]
     },
     "execution_count": 33,
     "metadata": {},
     "output_type": "execute_result"
    }
   ],
   "source": [
    "def zero_cross(signal):\n",
    "    return len(torch.where(torch.diff(torch.sign(signal)))[0])\n",
    "print(zero_cross(Y))\n",
    "np.isclose(zero_cross(Y), tsf.zero_cross(X)).all()"
   ]
  },
  {
   "cell_type": "code",
   "execution_count": null,
   "metadata": {},
   "outputs": [],
   "source": [
    "def slope(signal):\n",
    "    t = np.linspace(0, len(signal) - 1, len(signal))\n",
    "    return np.polyfit(t, signal, 1)[0]\n",
    "print(slope(Y))\n",
    "np.isclose(slope(Y), tsf.slope(X)).all()"
   ]
  },
  {
   "cell_type": "code",
   "execution_count": 32,
   "metadata": {},
   "outputs": [
    {
     "name": "stdout",
     "output_type": "stream",
     "text": [
      "tensor(12.5686)\n"
     ]
    },
    {
     "data": {
      "text/plain": [
       "np.True_"
      ]
     },
     "execution_count": 32,
     "metadata": {},
     "output_type": "execute_result"
    }
   ],
   "source": [
    "def auc(signal, fs):\n",
    "    t = compute_time(signal, fs)\n",
    "    return torch.sum(0.5 * torch.diff(t) * torch.abs(signal[:-1] + signal[1:]))\n",
    "print(auc(Y, 5))\n",
    "np.isclose(auc(Y, 5), tsf.auc(X, 5)).all()"
   ]
  },
  {
   "cell_type": "code",
   "execution_count": 42,
   "metadata": {},
   "outputs": [
    {
     "name": "stdout",
     "output_type": "stream",
     "text": [
      "tensor(12.5686)\n"
     ]
    },
    {
     "data": {
      "text/plain": [
       "np.True_"
      ]
     },
     "execution_count": 42,
     "metadata": {},
     "output_type": "execute_result"
    }
   ],
   "source": [
    "def neighbourhood_peaks(signal, n=10):\n",
    "    signal = np.array(signal)\n",
    "    subsequence = signal[n:-n]\n",
    "    # initial iteration\n",
    "    peaks = (subsequence > torch.roll(signal, 1)[n:-n]) & (subsequence > torch.roll(signal, -1)[n:-n])\n",
    "    for i in torch.arange(2, n + 1):\n",
    "        peaks &= subsequence > torch.roll(signal, i)[n:-n]\n",
    "        peaks &= subsequence > torch.roll(signal, -i)[n:-n]\n",
    "    return torch.sum(peaks)\n",
    "print(auc(Y, 5))\n",
    "np.isclose(auc(Y, 5), tsf.auc(X, 5)).all()"
   ]
  },
  {
   "cell_type": "code",
   "execution_count": 47,
   "metadata": {},
   "outputs": [
    {
     "name": "stdout",
     "output_type": "stream",
     "text": [
      "0.1332142857142857 0.13\n"
     ]
    },
    {
     "data": {
      "text/plain": [
       "np.False_"
      ]
     },
     "execution_count": 47,
     "metadata": {},
     "output_type": "execute_result"
    }
   ],
   "source": [
    "# hard to parallel\n",
    "def calc_lempel_ziv_complexity(sequence):\n",
    "    sub_strings = set()\n",
    "    ind = 0\n",
    "    inc = 1\n",
    "    while True:\n",
    "        if ind + inc > len(sequence):\n",
    "            break\n",
    "        sub_str = sequence[ind : ind + inc]\n",
    "        if sub_str in sub_strings:\n",
    "            inc += 1\n",
    "        else:\n",
    "            sub_strings.add(sub_str)\n",
    "            ind += inc\n",
    "            inc = 1\n",
    "    return len(sub_strings) / len(sequence)\n",
    "def lempel_ziv(signal, threshold=None):\n",
    "    if threshold is None:\n",
    "        threshold = np.mean(signal)\n",
    "    binary_signal = (signal > threshold).int()\n",
    "    string_binary_signal = \"\".join(map(str, binary_signal))\n",
    "    lz_index = calc_lempel_ziv_complexity(string_binary_signal)\n",
    "    return lz_index\n",
    "print(lempel_ziv(Y, 5), tsf.lempel_ziv(X, 5))\n",
    "np.isclose(lempel_ziv(Y, 5), tsf.lempel_ziv(X, 5)).all()"
   ]
  },
  {
   "cell_type": "code",
   "execution_count": 49,
   "metadata": {},
   "outputs": [
    {
     "name": "stdout",
     "output_type": "stream",
     "text": [
      "tensor(140.8801) 140.88013648664017\n"
     ]
    },
    {
     "data": {
      "text/plain": [
       "np.True_"
      ]
     },
     "execution_count": 49,
     "metadata": {},
     "output_type": "execute_result"
    }
   ],
   "source": [
    "def abs_energy(signal):\n",
    "    return torch.sum(torch.abs(signal) ** 2)\n",
    "print(abs_energy(Y), tsf.abs_energy(X))\n",
    "np.isclose(abs_energy(Y), tsf.abs_energy(X)).all()"
   ]
  },
  {
   "cell_type": "code",
   "execution_count": 50,
   "metadata": {},
   "outputs": [
    {
     "name": "stdout",
     "output_type": "stream",
     "text": [
      "tensor(7.1152) 7.11515840841617\n"
     ]
    },
    {
     "data": {
      "text/plain": [
       "np.True_"
      ]
     },
     "execution_count": 50,
     "metadata": {},
     "output_type": "execute_result"
    }
   ],
   "source": [
    "def average_power(signal, fs):\n",
    "    time = compute_time(signal, fs)\n",
    "    return torch.sum(signal ** 2) / (time[-1] - time[0])\n",
    "print(average_power(Y, 5), tsf.average_power(X, 5))\n",
    "np.isclose(average_power(Y, 5), tsf.average_power(X, 5)).all()"
   ]
  },
  {
   "cell_type": "code",
   "execution_count": 86,
   "metadata": {},
   "outputs": [
    {
     "name": "stdout",
     "output_type": "stream",
     "text": [
      "tensor(0.9429) 1.0\n"
     ]
    },
    {
     "name": "stderr",
     "output_type": "stream",
     "text": [
      "/tmp/ipykernel_8324/3421186131.py:37: DeprecationWarning: __array_wrap__ must accept context and return_scalar arguments (positionally) in the future. (Deprecated NumPy 2.0)\n",
      "  elif torch.sum(p * np.log2(p)) / np.log2(len(signal)) == 0:\n",
      "/tmp/ipykernel_8324/3421186131.py:40: DeprecationWarning: __array_wrap__ must accept context and return_scalar arguments (positionally) in the future. (Deprecated NumPy 2.0)\n",
      "  return -torch.sum(p * np.log2(p)) / np.log2(len(signal))\n"
     ]
    },
    {
     "data": {
      "text/plain": [
       "np.False_"
      ]
     },
     "execution_count": 86,
     "metadata": {},
     "output_type": "execute_result"
    }
   ],
   "source": [
    "# cross entropy\n",
    "def create_xx(features):\n",
    "    if max(features) < 0:\n",
    "        max_f = -torch.max(features,dim=0)[0]\n",
    "        min_f = torch.min(features,dim=0)[0]\n",
    "    else:\n",
    "        min_f = torch.min(features,dim=0)[0]\n",
    "        max_f = torch.max(features,dim=0)[0]\n",
    "    if torch.min(features,dim=0)[0] == torch.max(features,dim=0)[0]:\n",
    "        xx = torch.linspace(min_f, min_f + 10, len(features))\n",
    "    else:\n",
    "        xx = torch.linspace(min_f, max_f, len(features))\n",
    "    return xx\n",
    "\n",
    "def gaussian(features):\n",
    "    xx = create_xx(features)\n",
    "    std_value = torch.std(features)\n",
    "    mean_value = torch.mean(features)\n",
    "    if std_value == 0:\n",
    "        return 0.0\n",
    "    pdf_gauss = torch.distributions.normal.Normal(mean_value, std_value).log_prob(xx).exp()\n",
    "    return pdf_gauss / torch.sum(pdf_gauss)\n",
    "\n",
    "def entropy(signal, prob=\"gauss\"):\n",
    "    if prob == \"standard\":\n",
    "        value, counts = torch.unique(signal, return_counts=True)\n",
    "        p = counts / counts.sum()\n",
    "    elif prob == \"gauss\":\n",
    "        p = gaussian(signal)\n",
    "    if torch.sum(p) == 0:\n",
    "        return 0.0\n",
    "    # Handling zero probability values\n",
    "    p = p[torch.where(p != 0)]\n",
    "    # If probability all in one value, there is no entropy\n",
    "    if np.log2(len(signal)) == 1:\n",
    "        return 0.0\n",
    "    elif torch.sum(p * np.log2(p)) / np.log2(len(signal)) == 0:\n",
    "        return 0.0\n",
    "    else:\n",
    "        return -torch.sum(p * np.log2(p)) / np.log2(len(signal))\n",
    "print(entropy(Y), tsf.entropy(X))\n",
    "np.isclose(entropy(Y), tsf.entropy(X)).all()"
   ]
  },
  {
   "cell_type": "code",
   "execution_count": 51,
   "metadata": {},
   "outputs": [
    {
     "name": "stdout",
     "output_type": "stream",
     "text": [
      "-0.25253606 -0.25253615296528875\n"
     ]
    },
    {
     "data": {
      "text/plain": [
       "np.True_"
      ]
     },
     "execution_count": 51,
     "metadata": {},
     "output_type": "execute_result"
    }
   ],
   "source": [
    "def hist_mode(signal, nbins=10):\n",
    "    hist_values, bin_edges = np.histogram(signal, bins=nbins)\n",
    "    max_bin_idx = np.argmax(hist_values)\n",
    "    mode_value = (bin_edges[max_bin_idx] + bin_edges[max_bin_idx + 1]) / 2.0\n",
    "    return mode_value\n",
    "print(hist_mode(Y, 5), tsf.hist_mode(X, 5))\n",
    "np.isclose(hist_mode(Y, 5), tsf.hist_mode(X, 5)).all()"
   ]
  },
  {
   "cell_type": "code",
   "execution_count": 52,
   "metadata": {},
   "outputs": [
    {
     "name": "stdout",
     "output_type": "stream",
     "text": [
      "1.4366736 1.436673625982386\n"
     ]
    },
    {
     "data": {
      "text/plain": [
       "np.True_"
      ]
     },
     "execution_count": 52,
     "metadata": {},
     "output_type": "execute_result"
    }
   ],
   "source": [
    "def interq_range(signal):\n",
    "    return np.percentile(signal, 75) - np.percentile(signal, 25)\n",
    "print(interq_range(Y), tsf.interq_range(X))\n",
    "np.isclose(interq_range(Y), tsf.interq_range(X)).all()"
   ]
  },
  {
   "cell_type": "code",
   "execution_count": 87,
   "metadata": {},
   "outputs": [
    {
     "name": "stdout",
     "output_type": "stream",
     "text": [
      "tensor(6.0044) 6.004447725264798\n"
     ]
    },
    {
     "data": {
      "text/plain": [
       "np.True_"
      ]
     },
     "execution_count": 87,
     "metadata": {},
     "output_type": "execute_result"
    }
   ],
   "source": [
    "def pk_pk_distance(signal):\n",
    "    return torch.abs(torch.max(signal, dim=0)[0] - torch.min(signal, dim=0)[0])\n",
    "print(pk_pk_distance(Y), tsf.pk_pk_distance(X))\n",
    "np.isclose(pk_pk_distance(Y), tsf.pk_pk_distance(X)).all()"
   ]
  },
  {
   "cell_type": "code",
   "execution_count": 88,
   "metadata": {},
   "outputs": [
    {
     "name": "stdout",
     "output_type": "stream",
     "text": [
      "(tensor(0.0100), tensor(0.0200), tensor(0.0300), tensor(0.0400), tensor(0.0500), tensor(0.0600), tensor(0.0700), tensor(0.0800), tensor(0.0900), tensor(0.1000)) (np.float64(0.01), np.float64(0.02), np.float64(0.03), np.float64(0.04), np.float64(0.05), np.float64(0.06), np.float64(0.07), np.float64(0.08), np.float64(0.09), np.float64(0.1))\n"
     ]
    },
    {
     "data": {
      "text/plain": [
       "np.True_"
      ]
     },
     "execution_count": 88,
     "metadata": {},
     "output_type": "execute_result"
    }
   ],
   "source": [
    "def calc_ecdf(signal):\n",
    "    return torch.sort(signal, dim=0)[0], torch.arange(1, signal.shape[0] + 1) / signal.shape[0]\n",
    "def ecdf(signal, d=10):\n",
    "    _, y = calc_ecdf(signal)\n",
    "    if len(signal) <= d:\n",
    "        return tuple(y)\n",
    "    else:\n",
    "        return tuple(y[:d])\n",
    "print(ecdf(Y), tsf.ecdf(X))\n",
    "np.isclose(ecdf(Y), tsf.ecdf(X)).all()"
   ]
  },
  {
   "cell_type": "code",
   "execution_count": 90,
   "metadata": {},
   "outputs": [
    {
     "name": "stdout",
     "output_type": "stream",
     "text": [
      "tensor(-0.9408) -0.9408168183789232\n"
     ]
    },
    {
     "data": {
      "text/plain": [
       "np.True_"
      ]
     },
     "execution_count": 90,
     "metadata": {},
     "output_type": "execute_result"
    }
   ],
   "source": [
    "def ecdf_percentile(signal, percentile=None):\n",
    "    x, y = calc_ecdf(signal)\n",
    "    if torch.sum(torch.diff(signal)) == 0:\n",
    "        return signal[0]\n",
    "    else:\n",
    "        return torch.max(x[y <= percentile], dim=0)[0]\n",
    "print(ecdf_percentile(Y, 0.2), tsf.ecdf_percentile(X, 0.2))\n",
    "np.isclose(ecdf_percentile(Y, 0.2), tsf.ecdf_percentile(X, 0.2)).all()"
   ]
  },
  {
   "cell_type": "code",
   "execution_count": 92,
   "metadata": {},
   "outputs": [
    {
     "name": "stdout",
     "output_type": "stream",
     "text": [
      "tensor(0.3309) 0.3308885585353737\n"
     ]
    },
    {
     "data": {
      "text/plain": [
       "np.True_"
      ]
     },
     "execution_count": 92,
     "metadata": {},
     "output_type": "execute_result"
    }
   ],
   "source": [
    "def ecdf_slope(signal, p_init=0.5, p_end=0.75):\n",
    "    # check if signal is constant\n",
    "    if torch.sum(torch.diff(signal)) == 0:\n",
    "        return torch.nan\n",
    "    else:\n",
    "        x_init = ecdf_percentile(signal, percentile=p_init)\n",
    "        x_end = ecdf_percentile(signal, percentile=p_end)\n",
    "        return (p_end - p_init) / (x_end - x_init)\n",
    "print(ecdf_slope(Y), tsf.ecdf_slope(X))\n",
    "np.isclose(ecdf_slope(Y), tsf.ecdf_slope(X)).all()"
   ]
  },
  {
   "cell_type": "code",
   "execution_count": 94,
   "metadata": {},
   "outputs": [
    {
     "name": "stdout",
     "output_type": "stream",
     "text": [
      "20 20\n"
     ]
    },
    {
     "data": {
      "text/plain": [
       "np.True_"
      ]
     },
     "execution_count": 94,
     "metadata": {},
     "output_type": "execute_result"
    }
   ],
   "source": [
    "def ecdf_percentile_count(signal, percentile=None):\n",
    "    x, y = calc_ecdf(signal)\n",
    "    # check if signal is constant\n",
    "    if torch.sum(torch.diff(signal)) == 0:\n",
    "        return signal[0]\n",
    "    else:\n",
    "        return x[y <= percentile].shape[0]\n",
    "print(ecdf_percentile_count(Y, 0.2), tsf.ecdf_percentile_count(X, 0.2))\n",
    "np.isclose(ecdf_percentile_count(Y, 0.2), tsf.ecdf_percentile_count(X, 0.2)).all()"
   ]
  },
  {
   "cell_type": "code",
   "execution_count": 97,
   "metadata": {},
   "outputs": [],
   "source": [
    "def calc_fft(signal, fs):\n",
    "    fmag = torch.abs(torch.fft.rfft(signal))\n",
    "    f = torch.fft.rfftfreq(len(signal), d=1 / fs)\n",
    "    return f, fmag"
   ]
  },
  {
   "cell_type": "code",
   "execution_count": 99,
   "metadata": {},
   "outputs": [
    {
     "name": "stdout",
     "output_type": "stream",
     "text": [
      "100 100\n"
     ]
    },
    {
     "data": {
      "text/plain": [
       "np.True_"
      ]
     },
     "execution_count": 99,
     "metadata": {},
     "output_type": "execute_result"
    }
   ],
   "source": [
    "# nor related to signal itself?\n",
    "def spectral_distance(signal, fs):\n",
    "    f, fmag = calc_fft(signal, fs)\n",
    "    cum_fmag = torch.cumsum(fmag)\n",
    "    # Computing the linear regression\n",
    "    points_y = torch.linspace(0, cum_fmag[-1], len(cum_fmag))\n",
    "    return torch.sum(points_y - cum_fmag)\n",
    "print(ecdf_percentile_count(Y, 5), tsf.ecdf_percentile_count(X, 5))\n",
    "np.isclose(ecdf_percentile_count(Y, 5), tsf.ecdf_percentile_count(X, 5)).all()"
   ]
  },
  {
   "cell_type": "code",
   "execution_count": null,
   "metadata": {},
   "outputs": [],
   "source": [
    "def fundamental_frequency(signal, fs):\n",
    "    signal = signal - np.mean(signal)\n",
    "    f, fmag = calc_fft(signal, fs)\n",
    "    # Finding big peaks, not considering noise peaks with low amplitude\n",
    "    bp = scipy.signal.find_peaks(fmag, height=max(fmag) * 0.3)[0]\n",
    "    # # Condition for offset removal, since the offset generates a peak at frequency zero\n",
    "    bp = bp[bp != 0]\n",
    "    if not list(bp):\n",
    "        f0 = 0\n",
    "    else:\n",
    "        # f0 is the minimum big peak frequency\n",
    "        f0 = f[min(bp)]\n",
    "    return f0\n",
    "print(fundamental_frequency(Y, 0.2), tsf.fundamental_frequency(X, 0.2))\n",
    "np.isclose(fundamental_frequency(Y, 0.2), tsf.fundamental_frequency(X, 0.2)).all()"
   ]
  },
  {
   "cell_type": "code",
   "execution_count": null,
   "metadata": {},
   "outputs": [],
   "source": [
    "def max_power_spectrum(signal, fs):\n",
    "    if np.std(signal) == 0:\n",
    "        return float(max(scipy.signal.welch(signal, fs, nperseg=len(signal))[1]))\n",
    "    else:\n",
    "        return float(max(scipy.signal.welch(signal / np.std(signal), fs, nperseg=len(signal))[1]))"
   ]
  },
  {
   "cell_type": "code",
   "execution_count": 103,
   "metadata": {},
   "outputs": [
    {
     "name": "stdout",
     "output_type": "stream",
     "text": [
      "tensor(1.3237) 1.323686781664513\n"
     ]
    },
    {
     "data": {
      "text/plain": [
       "np.True_"
      ]
     },
     "execution_count": 103,
     "metadata": {},
     "output_type": "execute_result"
    }
   ],
   "source": [
    "def spectral_centroid(signal, fs):\n",
    "    f, fmag = calc_fft(signal, fs)\n",
    "    if not torch.sum(fmag):\n",
    "        return 0\n",
    "    else:\n",
    "        return torch.dot(f, fmag / torch.sum(fmag))\n",
    "print(spectral_centroid(Y, 5), tsf.spectral_centroid(X, 5))\n",
    "np.isclose(spectral_centroid(Y, 5), tsf.spectral_centroid(X, 5)).all()"
   ]
  },
  {
   "cell_type": "code",
   "execution_count": 131,
   "metadata": {},
   "outputs": [
    {
     "name": "stdout",
     "output_type": "stream",
     "text": [
      "tensor(0.7100) 0.7099732883827264\n"
     ]
    },
    {
     "data": {
      "text/plain": [
       "np.True_"
      ]
     },
     "execution_count": 131,
     "metadata": {},
     "output_type": "execute_result"
    }
   ],
   "source": [
    "def spectral_spread(signal, fs):\n",
    "    f, fmag = calc_fft(signal, fs)\n",
    "    spect_centroid = spectral_centroid(signal, fs)\n",
    "    if not torch.sum(fmag):\n",
    "        return 0\n",
    "    else:\n",
    "        return torch.dot(((f - spect_centroid) ** 2), (fmag / torch.sum(fmag))) ** 0.5\n",
    "print(spectral_spread(Y, 5), tsf.spectral_spread(X, 5))\n",
    "np.isclose(spectral_spread(Y, 5), tsf.spectral_spread(X, 5)).all()"
   ]
  },
  {
   "cell_type": "code",
   "execution_count": 132,
   "metadata": {},
   "outputs": [
    {
     "name": "stdout",
     "output_type": "stream",
     "text": [
      "tensor(2.4000) 2.4000000000000004\n"
     ]
    },
    {
     "data": {
      "text/plain": [
       "np.True_"
      ]
     },
     "execution_count": 132,
     "metadata": {},
     "output_type": "execute_result"
    }
   ],
   "source": [
    "def max_frequency(signal, fs):\n",
    "    f, fmag = calc_fft(signal, fs)\n",
    "    cum_fmag = torch.cumsum(fmag, dim=0)\n",
    "    try:\n",
    "        ind_mag = torch.where(cum_fmag > cum_fmag[-1] * 0.95)[0][0]\n",
    "    except IndexError:\n",
    "        ind_mag = torch.argmax(cum_fmag)\n",
    "\n",
    "    return f[ind_mag]\n",
    "print(max_frequency(Y, 5), tsf.max_frequency(X, 5))\n",
    "np.isclose(max_frequency(Y, 5), tsf.max_frequency(X, 5)).all()"
   ]
  },
  {
   "cell_type": "code",
   "execution_count": 133,
   "metadata": {},
   "outputs": [
    {
     "name": "stdout",
     "output_type": "stream",
     "text": [
      "tensor(1.4000) 1.4000000000000001\n"
     ]
    },
    {
     "data": {
      "text/plain": [
       "np.True_"
      ]
     },
     "execution_count": 133,
     "metadata": {},
     "output_type": "execute_result"
    }
   ],
   "source": [
    "def median_frequency(signal, fs):\n",
    "    f, fmag = calc_fft(signal, fs)\n",
    "    cum_fmag = torch.cumsum(fmag, dim=0)\n",
    "    try:\n",
    "        ind_mag = torch.where(cum_fmag > cum_fmag[-1] * 0.50)[0][0]\n",
    "    except IndexError:\n",
    "        ind_mag = torch.argmax(cum_fmag)\n",
    "    f_median = f[ind_mag]\n",
    "    return f_median\n",
    "print(median_frequency(Y, 5), tsf.median_frequency(X, 5))\n",
    "np.isclose(median_frequency(Y, 5), tsf.median_frequency(X, 5)).all()"
   ]
  },
  {
   "cell_type": "code",
   "execution_count": 130,
   "metadata": {},
   "outputs": [
    {
     "name": "stdout",
     "output_type": "stream",
     "text": [
      "tensor(0.0488) 0.04883853063577662\n"
     ]
    },
    {
     "data": {
      "text/plain": [
       "np.True_"
      ]
     },
     "execution_count": 130,
     "metadata": {},
     "output_type": "execute_result"
    }
   ],
   "source": [
    "def spectral_decrease(signal, fs):\n",
    "    f, fmag = calc_fft(signal, fs)\n",
    "    fmag_band = fmag[1:]\n",
    "    len_fmag_band = torch.arange(2, len(fmag) + 1)\n",
    "    # Sum of numerator\n",
    "    soma_num = torch.sum((fmag_band - fmag[0]) / (len_fmag_band - 1), axis=0)\n",
    "    if not torch.sum(fmag_band):\n",
    "        return 0\n",
    "    else:\n",
    "        # Sum of denominator\n",
    "        soma_den = 1 / torch.sum(fmag_band)\n",
    "\n",
    "        # Spectral decrease computing\n",
    "        return soma_den * soma_num\n",
    "print(spectral_decrease(Y, 5), tsf.spectral_decrease(X, 5))\n",
    "np.isclose(spectral_decrease(Y, 5), tsf.spectral_decrease(X, 5)).all()"
   ]
  },
  {
   "cell_type": "code",
   "execution_count": 129,
   "metadata": {},
   "outputs": [
    {
     "name": "stdout",
     "output_type": "stream",
     "text": [
      "tensor(1.9127) 1.9126616456922227\n"
     ]
    },
    {
     "data": {
      "text/plain": [
       "np.True_"
      ]
     },
     "execution_count": 129,
     "metadata": {},
     "output_type": "execute_result"
    }
   ],
   "source": [
    "def spectral_kurtosis(signal, fs):\n",
    "    f, fmag = calc_fft(signal, fs)\n",
    "    if not spectral_spread(signal, fs):\n",
    "        return 0\n",
    "    else:\n",
    "        spect_kurt = ((f - spectral_centroid(signal, fs)) ** 4) * (fmag / torch.sum(fmag))\n",
    "        return torch.sum(spect_kurt) / (spectral_spread(signal, fs) ** 4)\n",
    "print(spectral_kurtosis(Y, 5), tsf.spectral_kurtosis(X, 5))\n",
    "np.isclose(spectral_kurtosis(Y, 5), tsf.spectral_kurtosis(X, 5)).all()"
   ]
  },
  {
   "cell_type": "code",
   "execution_count": 128,
   "metadata": {},
   "outputs": [
    {
     "name": "stdout",
     "output_type": "stream",
     "text": [
      "tensor(-0.1278) -0.12781690143011465\n"
     ]
    },
    {
     "data": {
      "text/plain": [
       "np.True_"
      ]
     },
     "execution_count": 128,
     "metadata": {},
     "output_type": "execute_result"
    }
   ],
   "source": [
    "def spectral_skewness(signal, fs):\n",
    "    f, fmag = calc_fft(signal, fs)\n",
    "    spect_centr = spectral_centroid(signal, fs)\n",
    "\n",
    "    if not spectral_spread(signal, fs):\n",
    "        return 0\n",
    "    else:\n",
    "        skew = ((f - spect_centr) ** 3) * (fmag / torch.sum(fmag))\n",
    "        return torch.sum(skew) / (spectral_spread(signal, fs) ** 3)\n",
    "print(spectral_skewness(Y, 5), tsf.spectral_skewness(X, 5))\n",
    "np.isclose(spectral_skewness(Y, 5), tsf.spectral_skewness(X, 5)).all()"
   ]
  },
  {
   "cell_type": "code",
   "execution_count": 127,
   "metadata": {},
   "outputs": [
    {
     "name": "stdout",
     "output_type": "stream",
     "text": [
      "tensor(0.0027) 0.002667394811385087\n"
     ]
    },
    {
     "data": {
      "text/plain": [
       "np.True_"
      ]
     },
     "execution_count": 127,
     "metadata": {},
     "output_type": "execute_result"
    }
   ],
   "source": [
    "def spectral_slope(signal, fs):\n",
    "    f, fmag = calc_fft(signal, fs)\n",
    "    sum_fmag = fmag.sum()\n",
    "    dot_ff = (f * f).sum()\n",
    "    sum_f = f.sum()\n",
    "    len_f = len(f)\n",
    "    if not ([f]) or (sum_fmag == 0):\n",
    "        return 0\n",
    "    else:\n",
    "        if not (len_f * dot_ff - sum_f**2):\n",
    "            return 0\n",
    "        else:\n",
    "            num_ = (1 / sum_fmag) * (len_f * torch.sum(f * fmag) - sum_f * sum_fmag)\n",
    "            denom_ = len_f * dot_ff - sum_f**2\n",
    "            return num_ / denom_\n",
    "print(spectral_slope(Y, 5), tsf.spectral_slope(X, 5))\n",
    "np.isclose(spectral_slope(Y, 5), tsf.spectral_slope(X, 5)).all()"
   ]
  },
  {
   "cell_type": "code",
   "execution_count": 126,
   "metadata": {},
   "outputs": [
    {
     "name": "stdout",
     "output_type": "stream",
     "text": [
      "tensor(0.2019) 0.20191787509731118\n"
     ]
    },
    {
     "data": {
      "text/plain": [
       "np.True_"
      ]
     },
     "execution_count": 126,
     "metadata": {},
     "output_type": "execute_result"
    }
   ],
   "source": [
    "def spectral_variation(signal, fs):\n",
    "    f, fmag = calc_fft(signal, fs)\n",
    "    sum1 = torch.sum(fmag[:-1] * fmag[1:])\n",
    "    sum2 = torch.sum(fmag[1:] ** 2)\n",
    "    sum3 = torch.sum(fmag[:-1] ** 2)\n",
    "    if not sum2 or not sum3:\n",
    "        variation = 1\n",
    "    else:\n",
    "        variation = 1 - (sum1 / ((sum2**0.5) * (sum3**0.5)))\n",
    "    return variation\n",
    "print(spectral_variation(Y, 5), tsf.spectral_variation(X, 5))\n",
    "np.isclose(spectral_variation(Y, 5), tsf.spectral_variation(X, 5)).all()"
   ]
  },
  {
   "cell_type": "code",
   "execution_count": 125,
   "metadata": {},
   "outputs": [
    {
     "name": "stdout",
     "output_type": "stream",
     "text": [
      "16 16\n"
     ]
    },
    {
     "data": {
      "text/plain": [
       "np.True_"
      ]
     },
     "execution_count": 125,
     "metadata": {},
     "output_type": "execute_result"
    }
   ],
   "source": [
    "def spectral_positive_turning(signal, fs):\n",
    "    f, fmag = calc_fft(signal, fs)\n",
    "    diff_sig = torch.diff(fmag)\n",
    "    array_signal = torch.arange(len(diff_sig[:-1]))\n",
    "    positive_turning_pts = torch.where((diff_sig[array_signal + 1] < 0) & (diff_sig[array_signal] > 0))[0]\n",
    "    return len(positive_turning_pts)\n",
    "print(spectral_positive_turning(Y, 5), tsf.spectral_positive_turning(X, 5))\n",
    "np.isclose(spectral_positive_turning(Y, 5), tsf.spectral_positive_turning(X, 5)).all()"
   ]
  },
  {
   "cell_type": "code",
   "execution_count": 124,
   "metadata": {},
   "outputs": [
    {
     "name": "stdout",
     "output_type": "stream",
     "text": [
      "tensor(2.4000) 2.4000000000000004\n"
     ]
    },
    {
     "data": {
      "text/plain": [
       "np.True_"
      ]
     },
     "execution_count": 124,
     "metadata": {},
     "output_type": "execute_result"
    }
   ],
   "source": [
    "def spectral_roll_off(signal, fs):\n",
    "    f, fmag = calc_fft(signal, fs)\n",
    "    cum_ff = torch.cumsum(fmag, dim=0)\n",
    "    value = 0.95 * (torch.sum(fmag))\n",
    "    return f[torch.where(cum_ff >= value)[0][0]]\n",
    "print(spectral_roll_off(Y, 5), tsf.spectral_roll_off(X, 5))\n",
    "np.isclose(spectral_roll_off(Y, 5), tsf.spectral_roll_off(X, 5)).all()"
   ]
  },
  {
   "cell_type": "code",
   "execution_count": 123,
   "metadata": {},
   "outputs": [
    {
     "name": "stdout",
     "output_type": "stream",
     "text": [
      "tensor(0.1500) 0.15000000000000002\n"
     ]
    },
    {
     "data": {
      "text/plain": [
       "np.True_"
      ]
     },
     "execution_count": 123,
     "metadata": {},
     "output_type": "execute_result"
    }
   ],
   "source": [
    "def spectral_roll_on(signal, fs):\n",
    "    f, fmag = calc_fft(signal, fs)\n",
    "    cum_ff = torch.cumsum(fmag, dim=0)\n",
    "    value = 0.05 * (torch.sum(fmag))\n",
    "    return f[torch.where(cum_ff >= value)[0][0]]\n",
    "print(spectral_roll_on(Y, 5), tsf.spectral_roll_on(X, 5))\n",
    "np.isclose(spectral_roll_on(Y, 5), tsf.spectral_roll_on(X, 5)).all()"
   ]
  },
  {
   "cell_type": "code",
   "execution_count": 122,
   "metadata": {},
   "outputs": [
    {
     "name": "stdout",
     "output_type": "stream",
     "text": [
      "tensor(0.7990) 0.7990190450645974\n"
     ]
    },
    {
     "data": {
      "text/plain": [
       "np.True_"
      ]
     },
     "execution_count": 122,
     "metadata": {},
     "output_type": "execute_result"
    }
   ],
   "source": [
    "def human_range_energy(signal, fs):\n",
    "    f, fmag = calc_fft(signal, fs)\n",
    "    allenergy = torch.sum(fmag**2)\n",
    "    if allenergy == 0:\n",
    "        # For handling the occurrence of Nan values\n",
    "        return 0.0\n",
    "    hr_energy = torch.sum(fmag[torch.argmin(torch.abs(0.6 - f)) : torch.argmin(torch.abs(2.5 - f))] ** 2)\n",
    "    ratio = hr_energy / allenergy\n",
    "    return ratio\n",
    "print(human_range_energy(Y, 5), tsf.human_range_energy(X, 5))\n",
    "np.isclose(human_range_energy(Y, 5), tsf.human_range_energy(X, 5)).all()"
   ]
  },
  {
   "cell_type": "code",
   "execution_count": null,
   "metadata": {},
   "outputs": [],
   "source": [
    "def filterbank(signal, fs, pre_emphasis=0.97, nfft=512, nfilt=40):\n",
    "    \"\"\"Computes the MEL-spaced filterbank.\n",
    "\n",
    "    It provides the information about the power in each frequency band.\n",
    "\n",
    "    Implementation details and description on:\n",
    "    https://www.kaggle.com/ilyamich/mfcc-implementation-and-tutorial\n",
    "    https://haythamfayek.com/2016/04/21/speech-processing-for-machine-learning.html#fnref:1\n",
    "\n",
    "    Parameters\n",
    "    ----------\n",
    "    signal : nd-array\n",
    "        Input from which filterbank is computed\n",
    "    fs : float\n",
    "        Sampling frequency\n",
    "    pre_emphasis : float\n",
    "        Pre-emphasis coefficient for pre-emphasis filter application\n",
    "    nfft : int\n",
    "        Number of points of fft\n",
    "    nfilt : int\n",
    "        Number of filters\n",
    "\n",
    "    Returns\n",
    "    -------\n",
    "    nd-array\n",
    "        MEL-spaced filterbank\n",
    "    \"\"\"\n",
    "\n",
    "    # Signal is already a window from the original signal, so no frame is needed.\n",
    "    # According to the references it is needed the application of a window function such as\n",
    "    # hann window. However if the signal windows don't have overlap, we will lose information,\n",
    "    # as the application of a hann window will overshadow the windows signal edges.\n",
    "\n",
    "    # pre-emphasis filter to amplify the high frequencies\n",
    "\n",
    "    emphasized_signal = np.append(\n",
    "        np.array(signal)[0],\n",
    "        np.array(signal[1:]) - pre_emphasis * np.array(signal[:-1]),\n",
    "    )\n",
    "\n",
    "    # Fourier transform and Power spectrum\n",
    "    mag_frames = np.absolute(\n",
    "        np.fft.rfft(emphasized_signal, nfft),\n",
    "    )  # Magnitude of the FFT\n",
    "\n",
    "    pow_frames = (1.0 / nfft) * (mag_frames**2)  # Power Spectrum\n",
    "\n",
    "    low_freq_mel = 0\n",
    "    high_freq_mel = 2595 * np.log10(1 + (fs / 2) / 700)  # Convert Hz to Mel\n",
    "    mel_points = np.linspace(\n",
    "        low_freq_mel,\n",
    "        high_freq_mel,\n",
    "        nfilt + 2,\n",
    "    )  # Equally spaced in Mel scale\n",
    "    hz_points = 700 * (10 ** (mel_points / 2595) - 1)  # Convert Mel to Hz\n",
    "    filter_bin = np.floor((nfft + 1) * hz_points / fs)\n",
    "\n",
    "    fbank = np.zeros((nfilt, int(np.floor(nfft / 2 + 1))))\n",
    "    for m in np.arange(1, nfilt + 1):\n",
    "\n",
    "        f_m_minus = int(filter_bin[m - 1])  # left\n",
    "        f_m = int(filter_bin[m])  # center\n",
    "        f_m_plus = int(filter_bin[m + 1])  # right\n",
    "\n",
    "        for k in np.arange(f_m_minus, f_m):\n",
    "            fbank[m - 1, k] = (k - filter_bin[m - 1]) / (filter_bin[m] - filter_bin[m - 1])\n",
    "        for k in np.arange(f_m, f_m_plus):\n",
    "            fbank[m - 1, k] = (filter_bin[m + 1] - k) / (filter_bin[m + 1] - filter_bin[m])\n",
    "\n",
    "    # Area Normalization\n",
    "    # If we don't normalize the noise will increase with frequency because of the filter width.\n",
    "    enorm = 2.0 / (hz_points[2 : nfilt + 2] - hz_points[:nfilt])\n",
    "    fbank *= enorm[:, np.newaxis]\n",
    "\n",
    "    filter_banks = np.dot(pow_frames, fbank.T)\n",
    "    filter_banks = np.where(\n",
    "        filter_banks == 0,\n",
    "        np.finfo(float).eps,\n",
    "        filter_banks,\n",
    "    )  # Numerical Stability\n",
    "    filter_banks = 20 * np.log10(filter_banks)  # dB\n",
    "\n",
    "    return filter_banks\n",
    "\n",
    "def mfcc(signal, fs, pre_emphasis=0.97, nfft=512, nfilt=40, num_ceps=12, cep_lifter=22):\n",
    "    filter_banks = filterbank(signal, fs, pre_emphasis, nfft, nfilt)\n",
    "    mel_coeff = scipy.fft.dct(filter_banks, type=2, axis=0, norm=\"ortho\")[1 : (num_ceps + 1)]  # Keep 2-13\n",
    "    mel_coeff -= np.mean(mel_coeff, axis=0) + 1e-8\n",
    "    # liftering\n",
    "    ncoeff = len(mel_coeff)\n",
    "    n = np.arange(ncoeff)\n",
    "    lift = 1 + (cep_lifter / 2) * np.sin(np.pi * n / cep_lifter)  # cep_lifter = 22 from python_speech_features library\n",
    "    mel_coeff *= lift\n",
    "    return tuple(mel_coeff)\n",
    "print(mfcc(Y, 5), tsf.mfcc(X, 5))\n",
    "np.isclose(mfcc(Y, 5), tsf.mfcc(X, 5)).all()"
   ]
  },
  {
   "cell_type": "code",
   "execution_count": 18,
   "metadata": {},
   "outputs": [
    {
     "data": {
      "text/plain": [
       "(tensor([0.0000, 0.1000, 0.2000, 0.3000, 0.4000, 0.5000]),\n",
       " tensor([[0.5287, 1.7273, 1.9764, 1.9345, 1.8635, 0.6566]]))"
      ]
     },
     "execution_count": 18,
     "metadata": {},
     "output_type": "execute_result"
    }
   ],
   "source": [
    "def _periodogram(X: torch.Tensor, fs, detrend, scaling):\n",
    "    if X.dim() > 2:\n",
    "        X = torch.squeeze(X)\n",
    "    elif X.dim() == 1:\n",
    "        X = X.unsqueeze(0)\n",
    "\n",
    "    if detrend:\n",
    "        X -= X.mean(-1, keepdim=True)\n",
    "\n",
    "    N = X.size(-1)\n",
    "    assert N % 2 == 0\n",
    "\n",
    "    df = fs / N\n",
    "    dt = df\n",
    "    f = torch.arange(0, N / 2 + 1) * df  # [0:df:f/2]\n",
    "\n",
    "    dual_side = torch.fft.fft(X)  # 双边谱\n",
    "    half_idx = int(N / 2 + 1)\n",
    "    single_side = dual_side[:, 0:half_idx]\n",
    "    win = torch.abs(single_side)\n",
    "\n",
    "    ps = win ** 2\n",
    "    if scaling == 'density':  # 计算功率谱密度\n",
    "        scale = N * fs\n",
    "    elif scaling == 'spectrum':  # 计算功率谱\n",
    "        scale = N ** 2\n",
    "    elif scaling is None: # 不做缩放\n",
    "        scale = 1\n",
    "    else:\n",
    "        raise ValueError('Unknown scaling: %r' % scaling)\n",
    "    Pxy = ps / scale\n",
    "\n",
    "    Pxy[:, 1:-1] *= 2  # 能量2倍;直流分量不用二倍, 中心频率点不用二倍\n",
    "\n",
    "    return f, Pxy.squeeze()\n",
    "\n",
    "\n",
    "def periodogram(X: torch.Tensor, fs=256, detrend=False, scaling='density', no_grad=True):\n",
    "    \"\"\"计算信号单边 PSD, 基本等价于 scipy.signal.periodogram\n",
    "    \n",
    "        Parameters:\n",
    "        ----------\n",
    "            - `X`:          torch.Tensor, EEG, [T]/[N, T]\n",
    "            - `fs`:         int, 采样率, Hz\n",
    "            - `detrend`:    bool, 是否去趋势 (去除直流分量)\n",
    "            - `scaling`:    { 'density', 'spectrum' }, 可选\n",
    "                - 'density':    计算功率谱密度 `(V ** 2 / Hz)`\n",
    "                - 'spectrum':    计算功率谱 `(V ** 2)`\n",
    "            - `no_grad`:    bool, 是否启用 no_grad() 模式\n",
    "    \n",
    "        Returns:\n",
    "        ----------\n",
    "            - `Pxy`:    Tensor, 单边功率谱\n",
    "    \"\"\"\n",
    "    if no_grad:\n",
    "        with torch.no_grad():\n",
    "            return _periodogram(X, fs, detrend, scaling)\n",
    "    else:\n",
    "        return _periodogram(X, fs, detrend, scaling)\n",
    "    \n",
    "def _get_window(window, nwlen, device):\n",
    "    if window == 'hann':\n",
    "        window = torch.hann_window(\n",
    "            nwlen, dtype=torch.float32, device=device, periodic=False\n",
    "        )\n",
    "    elif window == 'hamming':\n",
    "        window = torch.hamming_window(\n",
    "            nwlen, dtype=torch.float32, device=device, periodic=False\n",
    "        )\n",
    "    elif window == 'blackman':\n",
    "        window = torch.blackman_window(\n",
    "            nwlen, dtype=torch.float32, device=device, periodic=False\n",
    "        )\n",
    "    elif window == 'boxcar':\n",
    "        window = torch.ones(nwlen, dtype=torch.float32, device=device)\n",
    "    else:\n",
    "        raise ValueError('Invalid Window {}' % window)\n",
    "    return window\n",
    "\n",
    "\n",
    "def _pwelch(X: torch.Tensor, fs, detrend, scaling, window, nwlen, nhop):\n",
    "    if scaling == 'density':\n",
    "        scale = (fs * (window * window).sum().item())\n",
    "    elif scaling == 'spectrum':\n",
    "        scale = window.sum().item() ** 2\n",
    "    else:\n",
    "        raise ValueError('Unknown scaling: %r' % scaling)\n",
    "    # --------------- Fold and windowing --------------- #\n",
    "    N, T = X.size(0), X.size(-1)\n",
    "    X = X.view(N, 1, 1, T)\n",
    "    X_fold = F.unfold(X, (1, nwlen), stride=nhop)  # [N, 1, 1, T] -> [N, nwlen, win_cnt]\n",
    "    if detrend:\n",
    "        X_fold -= X_fold.mean(1, keepdim=True) # 各个窗口各自detrend\n",
    "    window = window.view(1, -1, 1)  # [1, nwlen, 1]\n",
    "    X_windowed = X_fold * window  # [N, nwlen, win_cnt]\n",
    "    win_cnt = X_windowed.size(-1)\n",
    "\n",
    "    # --------------- Pwelch --------------- #\n",
    "    X_windowed = X_windowed.transpose(1, 2).contiguous()  # [N, win_cnt, nwlen]\n",
    "    X_windowed = X_windowed.view(N * win_cnt, nwlen)  # [N * win_cnt, nwlen]\n",
    "    f, pxx = _periodogram(\n",
    "        X_windowed, fs, detrend=False, scaling=None\n",
    "    )  # [N * win_cnt, nwlen // 2 + 1]\n",
    "    pxx /= scale\n",
    "    pxx = pxx.view(N, win_cnt, -1)  # [N, win_cnt, nwlen // 2 + 1]\n",
    "    pxx = torch.mean(pxx, dim=1)  # [N, nwlen // 2 + 1]\n",
    "    return f, pxx\n",
    "\n",
    "\n",
    "def pwelch(\n",
    "    X: torch.Tensor,\n",
    "    fs=256,\n",
    "    detrend=False,\n",
    "    scaling='density',\n",
    "    window='hann',\n",
    "    nwlen=128,\n",
    "    nhop=None,\n",
    "    no_grad=True,\n",
    "):\n",
    "    \"\"\"Pwelch 方法，大致相当于 scipy.signal.welch\n",
    "\n",
    "        Parameters:\n",
    "        ----------\n",
    "            - `X`:          torch.Tensor, EEG, [T]/[N, T]\n",
    "            - `fs`:         int, 采样率, Hz\n",
    "            - `detrend`:    bool, 是否去趋势 (去除直流分量)\n",
    "            - `scaling`:    { 'density', 'spectrum' }, 可选\n",
    "                - 'density':    计算功率谱密度 `(V ** 2 / Hz)`\n",
    "                - 'spectrum':    计算功率谱 `(V ** 2)`\n",
    "            - `window`:     str, 窗函数名称\n",
    "            - `nwlen`:      int, 窗函数长度 (点的个数)\n",
    "            - `nhop`:       int, 窗函数移动步长, 即 nwlen - noverlap (点的个数)\n",
    "                            如果为 None，则默认为 `nwlen // 2`\n",
    "            - `no_grad`:    bool, 是否启用 no_grad() 模式\n",
    "    \n",
    "        Returns:\n",
    "        ----------\n",
    "            - `Pxy`:    Tensor, 单边功率谱\n",
    "    \"\"\"\n",
    "    nhop = nwlen // 2 if nhop is None else nhop\n",
    "    window = _get_window(window, nwlen, X.device)\n",
    "    if no_grad:\n",
    "        with torch.no_grad():\n",
    "            return _pwelch(X, fs, detrend, scaling, window, nwlen, nhop)\n",
    "    else:\n",
    "        return _pwelch(X, fs, detrend, scaling, window, nwlen, nhop)\n",
    "pwelch(torch.stack([Y], dim=0), fs=1, window = \"hann\", scaling = 'density', detrend=True, nwlen=10, nhop=5)"
   ]
  },
  {
   "cell_type": "code",
   "execution_count": 19,
   "metadata": {},
   "outputs": [
    {
     "data": {
      "text/plain": [
       "(array([0. , 0.1, 0.2, 0.3, 0.4, 0.5]),\n",
       " array([0.38725113, 1.77615456, 1.9841756 , 1.96212444, 1.90009807,\n",
       "        0.66686779]))"
      ]
     },
     "execution_count": 19,
     "metadata": {},
     "output_type": "execute_result"
    }
   ],
   "source": [
    "import scipy\n",
    "scipy.signal.welch(X, fs=1., window = \"hann\", scaling = 'density', nperseg=10, noverlap=5)"
   ]
  },
  {
   "cell_type": "code",
   "execution_count": 142,
   "metadata": {},
   "outputs": [
    {
     "name": "stdout",
     "output_type": "stream",
     "text": [
      "tensor(0.9011) 0.9010709860682248\n"
     ]
    },
    {
     "data": {
      "text/plain": [
       "np.True_"
      ]
     },
     "execution_count": 142,
     "metadata": {},
     "output_type": "execute_result"
    }
   ],
   "source": [
    "def spectral_entropy(signal, fs):\n",
    "    # Removing DC component\n",
    "    sig = signal - torch.mean(signal)\n",
    "    f, fmag = calc_fft(sig, fs)\n",
    "    power = fmag**2\n",
    "    if power.sum() == 0:\n",
    "        return 0.0\n",
    "    prob = torch.divide(power, power.sum())\n",
    "    prob = prob[prob != 0]\n",
    "    # If probability all in one value, there is no entropy\n",
    "    if prob.size() == 1:\n",
    "        return 0.0\n",
    "    return -torch.multiply(prob, torch.log2(prob)).sum() / np.log2(prob.size()[0])\n",
    "print(spectral_entropy(Y, 5), tsf.spectral_entropy(X, 5))\n",
    "np.isclose(spectral_entropy(Y, 5), tsf.spectral_entropy(X, 5)).all()"
   ]
  },
  {
   "cell_type": "code",
   "execution_count": 32,
   "metadata": {},
   "outputs": [
    {
     "name": "stdout",
     "output_type": "stream",
     "text": [
      "tensor(10.7495, dtype=torch.float64) 10.74949254710537\n"
     ]
    },
    {
     "data": {
      "text/plain": [
       "np.True_"
      ]
     },
     "execution_count": 32,
     "metadata": {},
     "output_type": "execute_result"
    }
   ],
   "source": [
    "import ptwt\n",
    "def continuous_wavelet_transform(signal, fs, wavelet=\"mexh\", widths=np.arange(1, 10)):\n",
    "    coefficients, frequencies = ptwt.cwt(signal, widths, wavelet, sampling_period=1 / fs)\n",
    "    return coefficients, frequencies\n",
    "\n",
    "def wavelet_entropy(signal, fs, wavelet=\"mexh\", max_width=10):\n",
    "    if torch.sum(signal) == 0:\n",
    "        return 0.0\n",
    "    max_width = int(max_width)\n",
    "    widths = torch.arange(1, max_width)\n",
    "    coeffs, _ = continuous_wavelet_transform(signal=signal, fs=fs, wavelet=wavelet, widths=widths)\n",
    "    energy_scale = torch.sum(torch.abs(coeffs), axis=1)\n",
    "    t_energy = torch.sum(energy_scale)\n",
    "    prob = energy_scale / t_energy\n",
    "    w_entropy = -torch.sum(prob * torch.log(prob))\n",
    "    return w_entropy\n",
    "print(wavelet_entropy(Y, 5), tsf.wavelet_entropy(X, 5))\n",
    "np.isclose(wavelet_entropy(Y, 5), tsf.wavelet_entropy(X, 5)).all()"
   ]
  },
  {
   "cell_type": "code",
   "execution_count": 29,
   "metadata": {},
   "outputs": [
    {
     "name": "stdout",
     "output_type": "stream",
     "text": [
      "{'names': ['1.25Hz', '0.62Hz', '0.42Hz', '0.31Hz', '0.25Hz', '0.21Hz', '0.18Hz', '0.16Hz', '0.14Hz'], 'values': tensor([[[0.0652, 0.0855, 0.0615,  ..., 0.0656, 0.0131, 0.1383],\n",
      "         [0.1215, 0.1278, 0.0769,  ..., 0.1374, 0.0372, 0.0148],\n",
      "         [0.0469, 0.1656, 0.0049,  ..., 0.0118, 0.0401, 0.0195],\n",
      "         ...,\n",
      "         [0.0007, 0.0029, 0.0062,  ..., 0.1784, 0.0948, 0.1338],\n",
      "         [0.0179, 0.1027, 0.0115,  ..., 0.0503, 0.0841, 0.0714],\n",
      "         [0.1306, 0.0434, 0.1126,  ..., 0.0112, 0.1698, 0.0359]],\n",
      "\n",
      "        [[0.0658, 0.0493, 0.0062,  ..., 0.0430, 0.1015, 0.1352],\n",
      "         [0.1601, 0.1353, 0.0186,  ..., 0.1311, 0.1274, 0.0549],\n",
      "         [0.1051, 0.0586, 0.0774,  ..., 0.0327, 0.0563, 0.0426],\n",
      "         ...,\n",
      "         [0.0092, 0.0013, 0.0235,  ..., 0.1220, 0.0841, 0.0291],\n",
      "         [0.0450, 0.0821, 0.0721,  ..., 0.0014, 0.0818, 0.0942],\n",
      "         [0.0789, 0.0368, 0.0374,  ..., 0.0245, 0.0541, 0.0296]],\n",
      "\n",
      "        [[0.0518, 0.0503, 0.0539,  ..., 0.1212, 0.1528, 0.1496],\n",
      "         [0.1349, 0.0885, 0.0138,  ..., 0.1437, 0.1329, 0.0880],\n",
      "         [0.0300, 0.0037, 0.0324,  ..., 0.0091, 0.0177, 0.0260],\n",
      "         ...,\n",
      "         [0.0086, 0.0343, 0.0545,  ..., 0.0508, 0.0270, 0.0101],\n",
      "         [0.0541, 0.0840, 0.0977,  ..., 0.0358, 0.0204, 0.0638],\n",
      "         [0.0465, 0.0353, 0.0269,  ..., 0.0601, 0.0437, 0.0305]],\n",
      "\n",
      "        ...,\n",
      "\n",
      "        [[0.0677, 0.0469, 0.0293,  ..., 0.1117, 0.1401, 0.1580],\n",
      "         [0.0599, 0.0156, 0.0277,  ..., 0.1298, 0.1247, 0.1190],\n",
      "         [0.0282, 0.0371, 0.0294,  ..., 0.0978, 0.0772, 0.0566],\n",
      "         ...,\n",
      "         [0.0610, 0.0734, 0.0738,  ..., 0.0860, 0.0563, 0.0310],\n",
      "         [0.0367, 0.0465, 0.0513,  ..., 0.0498, 0.0421, 0.0165],\n",
      "         [0.0726, 0.0671, 0.0648,  ..., 0.0509, 0.0566, 0.0567]],\n",
      "\n",
      "        [[0.0334, 0.0159, 0.0061,  ..., 0.0762, 0.1059, 0.1269],\n",
      "         [0.0200, 0.0180, 0.0597,  ..., 0.1200, 0.1201, 0.1144],\n",
      "         [0.0249, 0.0199, 0.0129,  ..., 0.1110, 0.0942, 0.0752],\n",
      "         ...,\n",
      "         [0.0703, 0.0747, 0.0763,  ..., 0.0997, 0.0743, 0.0479],\n",
      "         [0.0309, 0.0413, 0.0496,  ..., 0.0650, 0.0488, 0.0326],\n",
      "         [0.0681, 0.0634, 0.0554,  ..., 0.0334, 0.0444, 0.0517]],\n",
      "\n",
      "        [[0.0027, 0.0101, 0.0299,  ..., 0.0369, 0.0651, 0.0904],\n",
      "         [0.0171, 0.0534, 0.0890,  ..., 0.1117, 0.1132, 0.1088],\n",
      "         [0.0134, 0.0115, 0.0016,  ..., 0.1130, 0.0990, 0.0872],\n",
      "         ...,\n",
      "         [0.0768, 0.0700, 0.0714,  ..., 0.1130, 0.0896, 0.0585],\n",
      "         [0.0270, 0.0375, 0.0442,  ..., 0.0763, 0.0685, 0.0541],\n",
      "         [0.0563, 0.0614, 0.0497,  ..., 0.0146, 0.0267, 0.0389]]],\n",
      "       dtype=torch.float64)}\n",
      "{'names': ['1.25Hz', '0.62Hz', '0.42Hz', '0.31Hz', '0.25Hz', '0.21Hz', '0.18Hz', '0.16Hz', '0.14Hz'], 'values': array([[[0.0651698 , 0.08548533, 0.06151394, ..., 0.06557318,\n",
      "         0.01313024, 0.13830587],\n",
      "        [0.12153545, 0.12783673, 0.07693949, ..., 0.13737692,\n",
      "         0.03718652, 0.01482091],\n",
      "        [0.04691713, 0.16558948, 0.0049258 , ..., 0.01183513,\n",
      "         0.04010377, 0.0195096 ],\n",
      "        ...,\n",
      "        [0.00065003, 0.00285708, 0.00622635, ..., 0.17844847,\n",
      "         0.0948372 , 0.13378452],\n",
      "        [0.01785991, 0.10273521, 0.01146224, ..., 0.05034997,\n",
      "         0.08412002, 0.07142378],\n",
      "        [0.13064086, 0.04338868, 0.11260948, ..., 0.01116032,\n",
      "         0.16976725, 0.03591249]],\n",
      "\n",
      "       [[0.06584715, 0.04930842, 0.00620158, ..., 0.04297621,\n",
      "         0.10148904, 0.13517891],\n",
      "        [0.16012778, 0.13534344, 0.01860156, ..., 0.13106582,\n",
      "         0.12739714, 0.05486166],\n",
      "        [0.10510775, 0.05858908, 0.07737524, ..., 0.03274634,\n",
      "         0.05629889, 0.04260775],\n",
      "        ...,\n",
      "        [0.00922611, 0.00132464, 0.02350383, ..., 0.12202366,\n",
      "         0.08411937, 0.02913364],\n",
      "        [0.04502825, 0.08205249, 0.07213172, ..., 0.00144975,\n",
      "         0.08175584, 0.09417593],\n",
      "        [0.07889894, 0.03676881, 0.03742468, ..., 0.02447062,\n",
      "         0.05405692, 0.02957359]],\n",
      "\n",
      "       [[0.05180506, 0.05030656, 0.05393517, ..., 0.12115654,\n",
      "         0.15275306, 0.14960125],\n",
      "        [0.13486614, 0.08846501, 0.0137843 , ..., 0.14365902,\n",
      "         0.13290815, 0.08795761],\n",
      "        [0.02999875, 0.00374006, 0.03243911, ..., 0.0091073 ,\n",
      "         0.01773785, 0.02596491],\n",
      "        ...,\n",
      "        [0.00858306, 0.03426399, 0.05447769, ..., 0.05084541,\n",
      "         0.02704638, 0.01011315],\n",
      "        [0.05405882, 0.084031  , 0.09771343, ..., 0.03583345,\n",
      "         0.02038675, 0.06377766],\n",
      "        [0.0465028 , 0.03531331, 0.02687962, ..., 0.0600644 ,\n",
      "         0.04369568, 0.03046611]],\n",
      "\n",
      "       ...,\n",
      "\n",
      "       [[0.06765972, 0.04694578, 0.02927418, ..., 0.11166403,\n",
      "         0.14013026, 0.1579576 ],\n",
      "        [0.05992604, 0.01556749, 0.02773139, ..., 0.12976279,\n",
      "         0.12474946, 0.11896031],\n",
      "        [0.02815115, 0.03711649, 0.02940101, ..., 0.0977673 ,\n",
      "         0.07716782, 0.05655524],\n",
      "        ...,\n",
      "        [0.06103935, 0.07336413, 0.07375059, ..., 0.086031  ,\n",
      "         0.05625683, 0.03104455],\n",
      "        [0.03671002, 0.04649366, 0.05128702, ..., 0.04978019,\n",
      "         0.04214589, 0.01647426],\n",
      "        [0.0725806 , 0.06714756, 0.06480082, ..., 0.05093697,\n",
      "         0.05660885, 0.0566805 ]],\n",
      "\n",
      "       [[0.03341118, 0.01586159, 0.00610605, ..., 0.0761907 ,\n",
      "         0.10593362, 0.12685089],\n",
      "        [0.01999218, 0.01799441, 0.05971881, ..., 0.12004853,\n",
      "         0.12008128, 0.11440323],\n",
      "        [0.02485457, 0.01994456, 0.01287292, ..., 0.11095023,\n",
      "         0.0941544 , 0.07522292],\n",
      "        ...,\n",
      "        [0.07028536, 0.07472961, 0.07630841, ..., 0.09968291,\n",
      "         0.07434736, 0.04793361],\n",
      "        [0.03091817, 0.04126816, 0.04962786, ..., 0.06499826,\n",
      "         0.048768  , 0.03260963],\n",
      "        [0.06809148, 0.06340732, 0.05536854, ..., 0.03338577,\n",
      "         0.04438323, 0.0517342 ]],\n",
      "\n",
      "       [[0.00268631, 0.01014815, 0.02990211, ..., 0.03693202,\n",
      "         0.06508975, 0.09039349],\n",
      "        [0.01709685, 0.05337614, 0.08903977, ..., 0.11165218,\n",
      "         0.11316777, 0.10881018],\n",
      "        [0.01344836, 0.01151965, 0.0016191 , ..., 0.11304084,\n",
      "         0.09902208, 0.08715298],\n",
      "        ...,\n",
      "        [0.07676134, 0.07003801, 0.07141721, ..., 0.11299992,\n",
      "         0.08959028, 0.05854403],\n",
      "        [0.02699456, 0.03749786, 0.04415565, ..., 0.07626211,\n",
      "         0.06850816, 0.05414763],\n",
      "        [0.0562595 , 0.06141356, 0.04971334, ..., 0.01459303,\n",
      "         0.02670758, 0.03886002]]])}\n"
     ]
    },
    {
     "name": "stderr",
     "output_type": "stream",
     "text": [
      "/tmp/ipykernel_111886/210573967.py:6: DeprecationWarning: __array_wrap__ must accept context and return_scalar arguments (positionally) in the future. (Deprecated NumPy 2.0)\n",
      "  return {\"names\": [f + \"Hz\" for f in f_keys], \"values\": np.abs(torch.mean(coeffs, axis=1))}\n"
     ]
    }
   ],
   "source": [
    "def wavelet_abs_mean(signal, fs, wavelet=\"mexh\", max_width=10):\n",
    "    max_width = int(max_width)\n",
    "    widths = torch.arange(1, max_width)\n",
    "    coeffs, frequencies = continuous_wavelet_transform(signal=signal, fs=fs, wavelet=wavelet, widths=widths)\n",
    "    f_keys = np.round(frequencies, 2).astype(str)\n",
    "    return {\"names\": [f + \"Hz\" for f in f_keys], \"values\": np.abs(torch.mean(coeffs, axis=1))}\n",
    "print(wavelet_abs_mean(Y, 5))\n",
    "print(tsf.wavelet_abs_mean(X, 5))"
   ]
  },
  {
   "cell_type": "code",
   "execution_count": 30,
   "metadata": {},
   "outputs": [
    {
     "name": "stdout",
     "output_type": "stream",
     "text": [
      "{'names': ['1.25Hz', '0.62Hz', '0.42Hz', '0.31Hz', '0.25Hz', '0.21Hz', '0.18Hz', '0.16Hz', '0.14Hz'], 'values': tensor([[[0.6192, 0.7950, 0.8259,  ..., 0.8218, 0.8627, 0.7569],\n",
      "         [0.6326, 0.8067, 0.9053,  ..., 0.9028, 0.8321, 0.7942],\n",
      "         [0.5652, 0.7923, 0.8666,  ..., 0.8824, 0.9080, 0.8568],\n",
      "         ...,\n",
      "         [0.6574, 0.9124, 0.9000,  ..., 0.8489, 0.8268, 0.8587],\n",
      "         [0.6085, 0.7598, 0.7722,  ..., 0.9924, 0.8995, 0.9038],\n",
      "         [0.6600, 0.8458, 0.8400,  ..., 0.8628, 0.8792, 0.7585]],\n",
      "\n",
      "        [[0.6627, 0.7901, 0.9375,  ..., 0.8799, 0.8624, 0.8091],\n",
      "         [0.6657, 0.8565, 0.9369,  ..., 0.8258, 0.8598, 0.8442],\n",
      "         [0.6123, 0.8205, 0.8704,  ..., 0.8961, 0.9726, 0.9493],\n",
      "         ...,\n",
      "         [0.7792, 0.9536, 0.8675,  ..., 0.8140, 0.8808, 0.9360],\n",
      "         [0.6534, 0.7703, 0.8046,  ..., 0.9107, 1.0562, 1.0495],\n",
      "         [0.7056, 0.8693, 0.8429,  ..., 0.7686, 0.8656, 0.9034]],\n",
      "\n",
      "        [[0.6375, 0.8091, 0.9325,  ..., 0.8283, 0.8536, 0.7875],\n",
      "         [0.6780, 0.8564, 0.9923,  ..., 0.8338, 0.8495, 0.8085],\n",
      "         [0.6351, 0.7650, 0.8449,  ..., 0.8735, 0.9549, 0.9266],\n",
      "         ...,\n",
      "         [0.7645, 0.8979, 0.9667,  ..., 0.8738, 0.8785, 0.8634],\n",
      "         [0.6288, 0.7623, 0.8513,  ..., 0.8995, 1.0241, 1.0307],\n",
      "         [0.7170, 0.8314, 0.8544,  ..., 0.8183, 0.8313, 0.8237]],\n",
      "\n",
      "        ...,\n",
      "\n",
      "        [[0.7034, 0.7519, 0.7721,  ..., 0.8187, 0.7804, 0.7324],\n",
      "         [0.7982, 0.8925, 0.9731,  ..., 0.8189, 0.7710, 0.7143],\n",
      "         [0.6856, 0.7642, 0.8365,  ..., 0.8920, 0.8277, 0.7552],\n",
      "         ...,\n",
      "         [0.7491, 0.8120, 0.8626,  ..., 0.9202, 0.8650, 0.7984],\n",
      "         [0.7237, 0.8203, 0.8856,  ..., 0.8774, 0.8376, 0.7830],\n",
      "         [0.6299, 0.6988, 0.7759,  ..., 0.8634, 0.8139, 0.7493]],\n",
      "\n",
      "        [[0.6698, 0.7092, 0.7404,  ..., 0.8063, 0.7691, 0.7211],\n",
      "         [0.8066, 0.8903, 0.9617,  ..., 0.7971, 0.7554, 0.7040],\n",
      "         [0.6993, 0.7778, 0.8531,  ..., 0.9055, 0.8412, 0.7657],\n",
      "         ...,\n",
      "         [0.7432, 0.8028, 0.8510,  ..., 0.9243, 0.8632, 0.7953],\n",
      "         [0.7334, 0.8070, 0.8654,  ..., 0.8645, 0.8281, 0.7818],\n",
      "         [0.6509, 0.7305, 0.8099,  ..., 0.8532, 0.8037, 0.7456]],\n",
      "\n",
      "        [[0.6487, 0.6783, 0.7211,  ..., 0.7915, 0.7510, 0.7067],\n",
      "         [0.8118, 0.8902, 0.9500,  ..., 0.7765, 0.7361, 0.6889],\n",
      "         [0.7255, 0.7919, 0.8764,  ..., 0.9046, 0.8420, 0.7777],\n",
      "         ...,\n",
      "         [0.7432, 0.7938, 0.8414,  ..., 0.9290, 0.8608, 0.7962],\n",
      "         [0.7381, 0.7934, 0.8337,  ..., 0.8390, 0.8149, 0.7734],\n",
      "         [0.6848, 0.7616, 0.8385,  ..., 0.8393, 0.7916, 0.7392]]],\n",
      "       dtype=torch.float64)}\n",
      "{'names': ['1.25Hz', '0.62Hz', '0.42Hz', '0.31Hz', '0.25Hz', '0.21Hz', '0.18Hz', '0.16Hz', '0.14Hz'], 'values': array([[[0.61612588, 0.79101585, 0.8217806 , ..., 0.81766699,\n",
      "         0.85834495, 0.75311623],\n",
      "        [0.6294149 , 0.80263316, 0.9007593 , ..., 0.89825877,\n",
      "         0.82789785, 0.79024696],\n",
      "        [0.56232464, 0.78830334, 0.86229226, ..., 0.87793028,\n",
      "         0.90348302, 0.85249916],\n",
      "        ...,\n",
      "        [0.65410717, 0.90784417, 0.89549464, ..., 0.84465207,\n",
      "         0.82268635, 0.8543497 ],\n",
      "        [0.60543898, 0.75602185, 0.76829075, ..., 0.98746537,\n",
      "         0.89501558, 0.89924855],\n",
      "        [0.65668563, 0.84160467, 0.83575118, ..., 0.85851856,\n",
      "         0.8748204 , 0.75469778]],\n",
      "\n",
      "       [[0.65939905, 0.78609425, 0.93275524, ..., 0.87547069,\n",
      "         0.85811466, 0.80506769],\n",
      "        [0.66240397, 0.85222539, 0.9322145 , ..., 0.82164604,\n",
      "         0.85544365, 0.83995369],\n",
      "        [0.6091875 , 0.81635843, 0.86600031, ..., 0.89161232,\n",
      "         0.96774625, 0.94456685],\n",
      "        ...,\n",
      "        [0.7752971 , 0.94886459, 0.86318787, ..., 0.80989415,\n",
      "         0.87639229, 0.93129639],\n",
      "        [0.65012463, 0.76643221, 0.80051899, ..., 0.90616945,\n",
      "         1.05093612, 1.04420932],\n",
      "        [0.70208942, 0.86491028, 0.83864443, ..., 0.7647408 ,\n",
      "         0.86128901, 0.89891462]],\n",
      "\n",
      "       [[0.63432041, 0.80501783, 0.9277979 , ..., 0.82411169,\n",
      "         0.84930453, 0.78356107],\n",
      "        [0.67462474, 0.85208857, 0.98733736, ..., 0.82966897,\n",
      "         0.84519225, 0.80442255],\n",
      "        [0.63188747, 0.76114885, 0.84061872, ..., 0.86909857,\n",
      "         0.95012355, 0.92195825],\n",
      "        ...,\n",
      "        [0.7606805 , 0.89342071, 0.96190171, ..., 0.86939397,\n",
      "         0.87413182, 0.85909377],\n",
      "        [0.62567164, 0.75845516, 0.84704208, ..., 0.89500519,\n",
      "         1.01894172, 1.0255345 ],\n",
      "        [0.7134514 , 0.82727359, 0.85006807, ..., 0.81423107,\n",
      "         0.82714202, 0.8195884 ]],\n",
      "\n",
      "       ...,\n",
      "\n",
      "       [[0.69984431, 0.74812629, 0.76821478, ..., 0.8146032 ,\n",
      "         0.77650975, 0.72868142],\n",
      "        [0.79422407, 0.88799293, 0.96821894, ..., 0.81476528,\n",
      "         0.76712817, 0.71071593],\n",
      "        [0.68220256, 0.76034684, 0.83230901, ..., 0.88752731,\n",
      "         0.82355155, 0.75142109],\n",
      "        ...,\n",
      "        [0.74531822, 0.80796434, 0.85829549, ..., 0.91558597,\n",
      "         0.86062398, 0.7943783 ],\n",
      "        [0.72009843, 0.81623688, 0.88117424, ..., 0.87298132,\n",
      "         0.83340969, 0.77906433],\n",
      "        [0.6267121 , 0.69525132, 0.77204834, ..., 0.85908871,\n",
      "         0.80980764, 0.74555069]],\n",
      "\n",
      "       [[0.66639546, 0.7056254 , 0.73669451, ..., 0.80222813,\n",
      "         0.76527524, 0.71752993],\n",
      "        [0.8025464 , 0.88584098, 0.95690695, ..., 0.79311622,\n",
      "         0.75160752, 0.70046708],\n",
      "        [0.6958137 , 0.77387747, 0.84879006, ..., 0.90092279,\n",
      "         0.8369459 , 0.76186285],\n",
      "        ...,\n",
      "        [0.7394788 , 0.79873092, 0.8466933 , ..., 0.91968226,\n",
      "         0.85890549, 0.79127995],\n",
      "        [0.7297161 , 0.8029417 , 0.86106988, ..., 0.86020705,\n",
      "         0.82398958, 0.77783609],\n",
      "        [0.64761174, 0.72681306, 0.80579433, ..., 0.84896408,\n",
      "         0.7996327 , 0.74185288]],\n",
      "\n",
      "       [[0.64547822, 0.67489377, 0.71744797, ..., 0.78756453,\n",
      "         0.74726513, 0.70318985],\n",
      "        [0.80773412, 0.88574072, 0.94524729, ..., 0.77257304,\n",
      "         0.7324112 , 0.68542659],\n",
      "        [0.7219107 , 0.78789161, 0.87200202, ..., 0.90002897,\n",
      "         0.83780592, 0.77376857],\n",
      "        ...,\n",
      "        [0.73948814, 0.7898438 , 0.83715476, ..., 0.92434817,\n",
      "         0.8564637 , 0.79221868],\n",
      "        [0.73442805, 0.78941609, 0.82953823, ..., 0.83484126,\n",
      "         0.81078527, 0.76949081],\n",
      "        [0.68135526, 0.75779666, 0.83429929, ..., 0.8350529 ,\n",
      "         0.78758405, 0.73549399]]])}\n"
     ]
    }
   ],
   "source": [
    "def wavelet_std(signal, fs, wavelet=\"mexh\", max_width=10):\n",
    "    max_width = int(max_width)\n",
    "    widths = torch.arange(1, max_width)\n",
    "    coeffs, frequencies = continuous_wavelet_transform(signal=signal, fs=fs, wavelet=wavelet, widths=widths)\n",
    "    f_keys = np.round(frequencies, 2).astype(str)\n",
    "    return {\"names\": [f + \"Hz\" for f in f_keys], \"values\": torch.std(coeffs, axis=1)}\n",
    "print(wavelet_std(Y, 5))\n",
    "print(tsf.wavelet_std(X, 5))"
   ]
  },
  {
   "cell_type": "code",
   "execution_count": 163,
   "metadata": {},
   "outputs": [
    {
     "name": "stdout",
     "output_type": "stream",
     "text": [
      "{'names': ['1.25Hz', '0.62Hz', '0.42Hz', '0.31Hz', '0.25Hz', '0.21Hz', '0.18Hz', '0.16Hz', '0.14Hz'], 'values': tensor([1.1914, 0.9269, 1.0350, 1.1084, 1.1803, 1.2936, 1.3315, 1.2360, 1.0540],\n",
      "       dtype=torch.float64)}\n",
      "{'names': ['1.25Hz', '0.62Hz', '0.42Hz', '0.31Hz', '0.25Hz', '0.21Hz', '0.18Hz', '0.16Hz', '0.14Hz'], 'values': array([1.1794939 , 0.91759014, 1.02462779, 1.09734035, 1.16845962,\n",
      "       1.28063505, 1.3181826 , 1.22365243, 1.0434252 ])}\n"
     ]
    }
   ],
   "source": [
    "def wavelet_var(signal, fs, wavelet=\"mexh\", max_width=10):\n",
    "    max_width = int(max_width)\n",
    "    widths = torch.arange(1, max_width)\n",
    "    coeffs, frequencies = continuous_wavelet_transform(signal=signal, fs=fs, wavelet=wavelet, widths=widths)\n",
    "    f_keys = np.round(frequencies, 2).astype(str)\n",
    "    return {\"names\": [f + \"Hz\" for f in f_keys], \"values\": torch.var(coeffs, axis=1)}\n",
    "print(wavelet_var(Y, 5))\n",
    "print(tsf.wavelet_var(X, 5))"
   ]
  },
  {
   "cell_type": "code",
   "execution_count": 164,
   "metadata": {},
   "outputs": [
    {
     "name": "stdout",
     "output_type": "stream",
     "text": [
      "{'names': ['1.25Hz', '0.62Hz', '0.42Hz', '0.31Hz', '0.25Hz', '0.21Hz', '0.18Hz', '0.16Hz', '0.14Hz'], 'values': tensor([1.0860, 0.9579, 1.0123, 1.0479, 1.0818, 1.1329, 1.1497, 1.1079, 1.0230],\n",
      "       dtype=torch.float64)}\n",
      "{'names': ['1.25Hz', '0.62Hz', '0.42Hz', '0.31Hz', '0.25Hz', '0.21Hz', '0.18Hz', '0.16Hz', '0.14Hz'], 'values': array([1.08604602, 0.95793487, 1.01234899, 1.04791749, 1.08175217,\n",
      "       1.13291899, 1.14972115, 1.10789108, 1.02298811])}\n"
     ]
    }
   ],
   "source": [
    "def wavelet_energy(signal, fs, wavelet=\"mexh\", max_width=10):\n",
    "    max_width = int(max_width)\n",
    "    widths = torch.arange(1, max_width)\n",
    "    coeffs, frequencies = continuous_wavelet_transform(signal=signal, fs=fs, wavelet=wavelet, widths=widths)\n",
    "    f_keys = np.round(frequencies, 2).astype(str)\n",
    "    return {\"names\": [f + \"Hz\" for f in f_keys], \"values\": torch.sqrt(torch.sum(coeffs**2, axis=1) / coeffs.shape[1])}\n",
    "print(wavelet_energy(Y, 5))\n",
    "print(tsf.wavelet_energy(X, 5))"
   ]
  },
  {
   "cell_type": "code",
   "execution_count": 165,
   "metadata": {},
   "outputs": [
    {
     "name": "stdout",
     "output_type": "stream",
     "text": [
      "tensor(1.0528) 1.0528369071450172\n"
     ]
    },
    {
     "name": "stderr",
     "output_type": "stream",
     "text": [
      "/tmp/ipykernel_8324/2060534809.py:5: DeprecationWarning: __array_wrap__ must accept context and return_scalar arguments (positionally) in the future. (Deprecated NumPy 2.0)\n",
      "  pfd = np.log10(n) / (np.log10(n) + np.log10(n / (n + 0.4 * num_sign_changes)))\n"
     ]
    },
    {
     "data": {
      "text/plain": [
       "np.True_"
      ]
     },
     "execution_count": 165,
     "metadata": {},
     "output_type": "execute_result"
    }
   ],
   "source": [
    "def petrosian_fractal_dimension(signal):\n",
    "    n = len(signal)\n",
    "    diff_signal = torch.diff(torch.sign(torch.diff(signal)))\n",
    "    num_sign_changes = torch.sum(diff_signal != 0)\n",
    "    pfd = np.log10(n) / (np.log10(n) + np.log10(n / (n + 0.4 * num_sign_changes)))\n",
    "    return pfd\n",
    "print(petrosian_fractal_dimension(Y), tsf.petrosian_fractal_dimension(X))\n",
    "np.isclose(petrosian_fractal_dimension(Y), tsf.petrosian_fractal_dimension(X)).all()"
   ]
  },
  {
   "cell_type": "code",
   "execution_count": null,
   "metadata": {},
   "outputs": [],
   "source": []
  }
 ],
 "metadata": {
  "kernelspec": {
   "display_name": "base",
   "language": "python",
   "name": "python3"
  },
  "language_info": {
   "codemirror_mode": {
    "name": "ipython",
    "version": 3
   },
   "file_extension": ".py",
   "mimetype": "text/x-python",
   "name": "python",
   "nbconvert_exporter": "python",
   "pygments_lexer": "ipython3",
   "version": "3.12.4"
  }
 },
 "nbformat": 4,
 "nbformat_minor": 2
}
